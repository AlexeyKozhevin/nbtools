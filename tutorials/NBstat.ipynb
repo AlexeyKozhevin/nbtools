{
 "cells": [
  {
   "cell_type": "code",
   "execution_count": 1,
   "id": "1abd9105-f923-44af-a49f-dc261138943d",
   "metadata": {
    "execution": {
     "iopub.execute_input": "2022-02-10T23:18:05.628069Z",
     "iopub.status.busy": "2022-02-10T23:18:05.627807Z",
     "iopub.status.idle": "2022-02-10T23:18:05.747253Z",
     "shell.execute_reply": "2022-02-10T23:18:05.746761Z",
     "shell.execute_reply.started": "2022-02-10T23:18:05.627992Z"
    },
    "tags": []
   },
   "outputs": [],
   "source": [
    "import sys\n",
    "\n",
    "sys.path.insert(0, '..') # can be removed, if `nbtools` installed as a package\n",
    "from nbtools import pylint_notebook\n",
    "from nbtools.nbstat import ResourceInspector, Resource\n",
    "from nbtools.nbstat import NBSTAT_FORMATTER, DEVICESTAT_FORMATTER, GPUSTAT_FORMATTER"
   ]
  },
  {
   "cell_type": "markdown",
   "id": "71daefb4-8af3-4b6f-8738-824cbe215340",
   "metadata": {},
   "source": [
    "# NBSTAT table"
   ]
  },
  {
   "cell_type": "code",
   "execution_count": 2,
   "id": "218a3c9c-7baf-4219-bfa5-019f83fb9906",
   "metadata": {
    "execution": {
     "iopub.execute_input": "2022-02-10T23:18:05.748290Z",
     "iopub.status.busy": "2022-02-10T23:18:05.748104Z",
     "iopub.status.idle": "2022-02-10T23:18:05.752164Z",
     "shell.execute_reply": "2022-02-10T23:18:05.751573Z",
     "shell.execute_reply.started": "2022-02-10T23:18:05.748267Z"
    },
    "tags": []
   },
   "outputs": [],
   "source": [
    "inspector = ResourceInspector(NBSTAT_FORMATTER)"
   ]
  },
  {
   "cell_type": "code",
   "execution_count": 3,
   "id": "8b20b651-b13d-457f-8ee3-cf6072a52673",
   "metadata": {
    "execution": {
     "iopub.execute_input": "2022-02-10T23:18:05.753810Z",
     "iopub.status.busy": "2022-02-10T23:18:05.753546Z",
     "iopub.status.idle": "2022-02-10T23:18:06.148913Z",
     "shell.execute_reply": "2022-02-10T23:18:06.148137Z",
     "shell.execute_reply.started": "2022-02-10T23:18:05.753788Z"
    },
    "tags": []
   },
   "outputs": [
    {
     "name": "stdout",
     "output_type": "stream",
     "text": [
      "                                    \u001b[1m\u001b[4m2022-02-10 23:18:06\u001b[0;10m    \u001b[1m\u001b[4mDriver Version: 470.82\u001b[0;10m    \u001b[1m\u001b[4mCUDA Version: 11.4\u001b[0;10m\n",
      "      \u001b[1m\u001b[4mPROCESS NAME\u001b[0;10m ┃\u001b[0;10m       \u001b[0;10m\u001b[4mTYPE\u001b[0;10m   \u001b[0;10m\u001b[4mPID\u001b[0;10m ┃\u001b[0;10m      \u001b[1m\u001b[36m\u001b[4mRSS\u001b[0;10m ║\u001b[0;10m   \u001b[34m\u001b[4mDEVICE ID\u001b[0;10m ┃\u001b[0;10m           \u001b[33m\u001b[4m\u001b[1mPROCESS MEMORY\u001b[0;10m ┃\u001b[0;10m  \u001b[32m\u001b[4m\u001b[1mUTIL\u001b[0;10m  \u001b[31m\u001b[4m\u001b[1mTEMP\u001b[0;10m\u001b[0;10m\n",
      "\u001b[1m—\u001b[m\u001b[1m—\u001b[m\u001b[1m—\u001b[m\u001b[1m—\u001b[m\u001b[1m—\u001b[m\u001b[1m—\u001b[m\u001b[1m—\u001b[m\u001b[1m—\u001b[m\u001b[1m—\u001b[m\u001b[1m—\u001b[m\u001b[1m—\u001b[m\u001b[1m—\u001b[m\u001b[1m—\u001b[m\u001b[1m—\u001b[m\u001b[1m—\u001b[m\u001b[1m—\u001b[m\u001b[1m—\u001b[m\u001b[1m—\u001b[m\u001b[1m—\u001b[m\u001b[1m—\u001b[m\u001b[1m—\u001b[m\u001b[1m—\u001b[m\u001b[1m—\u001b[m\u001b[1m—\u001b[m\u001b[1m—\u001b[m\u001b[1m—\u001b[m\u001b[1m—\u001b[m\u001b[1m—\u001b[m\u001b[1m—\u001b[m\u001b[1m—\u001b[m\u001b[1m—\u001b[m\u001b[1m—\u001b[m\u001b[1m—\u001b[m\u001b[1m—\u001b[m\u001b[1m—\u001b[m\u001b[1m—\u001b[m\u001b[1m—\u001b[m\u001b[1m—\u001b[m\u001b[1m—\u001b[m\u001b[1m—\u001b[m\u001b[1m—\u001b[m\u001b[1m—\u001b[m\u001b[1m—\u001b[m\u001b[1m—\u001b[m\u001b[1m—\u001b[m\u001b[1m—\u001b[m\u001b[1m—\u001b[m\u001b[1m—\u001b[m\u001b[1m—\u001b[m\u001b[1m—\u001b[m\u001b[1m—\u001b[m\u001b[1m—\u001b[m\u001b[1m—\u001b[m\u001b[1m—\u001b[m\u001b[1m—\u001b[m\u001b[1m—\u001b[m\u001b[1m—\u001b[m\u001b[1m—\u001b[m\u001b[1m—\u001b[m\u001b[1m—\u001b[m\u001b[1m—\u001b[m\u001b[1m—\u001b[m\u001b[1m—\u001b[m\u001b[1m—\u001b[m\u001b[1m—\u001b[m\u001b[1m—\u001b[m\u001b[1m—\u001b[m\u001b[1m—\u001b[m\u001b[1m—\u001b[m\u001b[1m—\u001b[m\u001b[1m—\u001b[m\u001b[1m—\u001b[m\u001b[1m—\u001b[m\u001b[1m—\u001b[m\u001b[1m—\u001b[m\u001b[1m—\u001b[m\u001b[1m—\u001b[m\u001b[1m—\u001b[m\u001b[1m—\u001b[m\u001b[1m—\u001b[m\u001b[1m—\u001b[m\u001b[1m—\u001b[m\u001b[1m—\u001b[m\u001b[1m—\u001b[m\u001b[1m—\u001b[m\u001b[1m—\u001b[m\u001b[1m—\u001b[m\u001b[1m—\u001b[m\u001b[1m—\u001b[m\u001b[1m—\u001b[m\u001b[1m—\u001b[m\u001b[1m—\u001b[m\u001b[1m—\u001b[m\u001b[1m—\u001b[m\u001b[1m—\u001b[m\u001b[1m—\u001b[m\u001b[1m—\u001b[m\u001b[1m—\u001b[m\u001b[1m—\u001b[m\u001b[1m—\u001b[m\u001b[1m—\u001b[m\u001b[1m—\u001b[m\u001b[1m—\u001b[m\n",
      "     \u001b[1mgpu_script.py\u001b[0;10m ┃\u001b[0;10m     \u001b[0;10mscript\u001b[0;10m \u001b[0;10m70572\u001b[0;10m ┃\u001b[0;10m   \u001b[1m\u001b[36m0.2 GB\u001b[0;10m ║\u001b[0;10m           \u001b[34m-\u001b[0;10m ┃\u001b[0;10m                        \u001b[33m-\u001b[0;10m ┃\u001b[0;10m     \u001b[32m-\u001b[0;10m     \u001b[31m-\u001b[0;10m\u001b[0;10m\n",
      "                  \u001b[1m\u001b[0;10m ┃\u001b[0;10m \u001b[0;10msubprocess\u001b[0;10m \u001b[0;10m70645\u001b[0;10m ┃\u001b[0;10m   \u001b[1m\u001b[36m2.3 GB\u001b[0;10m ║\u001b[0;10m \u001b[34m2080 Ti [0]\u001b[0;10m ┃\u001b[0;10m \u001b[33m\u001b[1m\u001b[0;10m\u001b[33m\u001b[1m  737\u001b[0;10m\u001b[1m / \u001b[0;10m\u001b[33m\u001b[1m 2214\u001b[0;10m\u001b[1m / \u001b[0;10m\u001b[33m\u001b[1m11019 \u001b[0;10m\u001b[1mMB\u001b[0;10m ┃\u001b[0;10m    \u001b[32m0%\u001b[0;10m  \u001b[31m26°C\u001b[0;10m\u001b[0;10m\n",
      "                  \u001b[1m\u001b[0;10m ┃\u001b[0;10m \u001b[0;10msubprocess\u001b[0;10m \u001b[0;10m70646\u001b[0;10m ┃\u001b[0;10m   \u001b[1m\u001b[36m2.3 GB\u001b[0;10m ║\u001b[0;10m \u001b[34m2080 Ti [0]\u001b[0;10m ┃\u001b[0;10m \u001b[33m\u001b[1m\u001b[0;10m\u001b[33m\u001b[1m  737\u001b[0;10m\u001b[1m / \u001b[0;10m\u001b[33m\u001b[1m 2214\u001b[0;10m\u001b[1m / \u001b[0;10m\u001b[33m\u001b[1m11019 \u001b[0;10m\u001b[1mMB\u001b[0;10m ┃\u001b[0;10m    \u001b[32m0%\u001b[0;10m  \u001b[31m26°C\u001b[0;10m\u001b[0;10m\n",
      "                  \u001b[1m\u001b[0;10m ┃\u001b[0;10m \u001b[0;10msubprocess\u001b[0;10m \u001b[0;10m70645\u001b[0;10m ┃\u001b[0;10m   \u001b[1m\u001b[36m2.3 GB\u001b[0;10m ║\u001b[0;10m \u001b[34m2080 Ti [3]\u001b[0;10m ┃\u001b[0;10m \u001b[33m\u001b[1m\u001b[0;10m\u001b[33m\u001b[1m 2833\u001b[0;10m\u001b[1m / \u001b[0;10m\u001b[33m\u001b[1m 2836\u001b[0;10m\u001b[1m / \u001b[0;10m\u001b[33m\u001b[1m11019 \u001b[0;10m\u001b[1mMB\u001b[0;10m ┃\u001b[0;10m   \u001b[32m\u001b[1m79%\u001b[0;10m  \u001b[31m\u001b[1m55°C\u001b[0;10m\u001b[0;10m\n",
      "                  \u001b[1m\u001b[0;10m ┃\u001b[0;10m \u001b[0;10msubprocess\u001b[0;10m \u001b[0;10m70646\u001b[0;10m ┃\u001b[0;10m   \u001b[1m\u001b[36m2.3 GB\u001b[0;10m ║\u001b[0;10m \u001b[34m2080 Ti [4]\u001b[0;10m ┃\u001b[0;10m \u001b[33m\u001b[1m\u001b[0;10m\u001b[33m\u001b[1m 4145\u001b[0;10m\u001b[1m / \u001b[0;10m\u001b[33m\u001b[1m 4148\u001b[0;10m\u001b[1m / \u001b[0;10m\u001b[33m\u001b[1m11019 \u001b[0;10m\u001b[1mMB\u001b[0;10m ┃\u001b[0;10m   \u001b[32m\u001b[1m77%\u001b[0;10m  \u001b[31m\u001b[1m55°C\u001b[0;10m\u001b[0;10m\n",
      "\u001b[1m—\u001b[m\u001b[1m—\u001b[m\u001b[1m—\u001b[m\u001b[1m—\u001b[m\u001b[1m—\u001b[m\u001b[1m—\u001b[m\u001b[1m—\u001b[m\u001b[1m—\u001b[m\u001b[1m—\u001b[m\u001b[1m—\u001b[m\u001b[1m—\u001b[m\u001b[1m—\u001b[m\u001b[1m—\u001b[m\u001b[1m—\u001b[m\u001b[1m—\u001b[m\u001b[1m—\u001b[m\u001b[1m—\u001b[m\u001b[1m—\u001b[m\u001b[1m—\u001b[m\u001b[1m—\u001b[m\u001b[1m—\u001b[m\u001b[1m—\u001b[m\u001b[1m—\u001b[m\u001b[1m—\u001b[m\u001b[1m—\u001b[m\u001b[1m—\u001b[m\u001b[1m—\u001b[m\u001b[1m—\u001b[m\u001b[1m—\u001b[m\u001b[1m—\u001b[m\u001b[1m—\u001b[m\u001b[1m—\u001b[m\u001b[1m—\u001b[m\u001b[1m—\u001b[m\u001b[1m—\u001b[m\u001b[1m—\u001b[m\u001b[1m—\u001b[m\u001b[1m—\u001b[m\u001b[1m—\u001b[m\u001b[1m—\u001b[m\u001b[1m—\u001b[m\u001b[1m—\u001b[m\u001b[1m—\u001b[m\u001b[1m—\u001b[m\u001b[1m—\u001b[m\u001b[1m—\u001b[m\u001b[1m—\u001b[m\u001b[1m—\u001b[m\u001b[1m—\u001b[m\u001b[1m—\u001b[m\u001b[1m—\u001b[m\u001b[1m—\u001b[m\u001b[1m—\u001b[m\u001b[1m—\u001b[m\u001b[1m—\u001b[m\u001b[1m—\u001b[m\u001b[1m—\u001b[m\u001b[1m—\u001b[m\u001b[1m—\u001b[m\u001b[1m—\u001b[m\u001b[1m—\u001b[m\u001b[1m—\u001b[m\u001b[1m—\u001b[m\u001b[1m—\u001b[m\u001b[1m—\u001b[m\u001b[1m—\u001b[m\u001b[1m—\u001b[m\u001b[1m—\u001b[m\u001b[1m—\u001b[m\u001b[1m—\u001b[m\u001b[1m—\u001b[m\u001b[1m—\u001b[m\u001b[1m—\u001b[m\u001b[1m—\u001b[m\u001b[1m—\u001b[m\u001b[1m—\u001b[m\u001b[1m—\u001b[m\u001b[1m—\u001b[m\u001b[1m—\u001b[m\u001b[1m—\u001b[m\u001b[1m—\u001b[m\u001b[1m—\u001b[m\u001b[1m—\u001b[m\u001b[1m—\u001b[m\u001b[1m—\u001b[m\u001b[1m—\u001b[m\u001b[1m—\u001b[m\u001b[1m—\u001b[m\u001b[1m—\u001b[m\u001b[1m—\u001b[m\u001b[1m—\u001b[m\u001b[1m—\u001b[m\u001b[1m—\u001b[m\u001b[1m—\u001b[m\u001b[1m—\u001b[m\u001b[1m—\u001b[m\u001b[1m—\u001b[m\u001b[1m—\u001b[m\u001b[1m—\u001b[m\u001b[1m—\u001b[m\u001b[1m—\u001b[m\u001b[1m—\u001b[m\u001b[1m—\u001b[m\n",
      "     \u001b[1mExample.ipynb\u001b[0;10m ┃\u001b[0;10m   \u001b[0;10mnotebook\u001b[0;10m \u001b[0;10m80755\u001b[0;10m ┃\u001b[0;10m   \u001b[1m\u001b[36m0.1 GB\u001b[0;10m ║\u001b[0;10m           \u001b[34m-\u001b[0;10m ┃\u001b[0;10m                        \u001b[33m-\u001b[0;10m ┃\u001b[0;10m     \u001b[32m-\u001b[0;10m     \u001b[31m-\u001b[0;10m\u001b[0;10m\n",
      "                  \u001b[1m\u001b[0;10m ┃\u001b[0;10m \u001b[0;10msubprocess\u001b[0;10m \u001b[0;10m80852\u001b[0;10m ┃\u001b[0;10m   \u001b[1m\u001b[36m2.4 GB\u001b[0;10m ║\u001b[0;10m \u001b[34m2080 Ti [0]\u001b[0;10m ┃\u001b[0;10m \u001b[33m\u001b[1m\u001b[0;10m\u001b[33m\u001b[1m  737\u001b[0;10m\u001b[1m / \u001b[0;10m\u001b[33m\u001b[1m 2214\u001b[0;10m\u001b[1m / \u001b[0;10m\u001b[33m\u001b[1m11019 \u001b[0;10m\u001b[1mMB\u001b[0;10m ┃\u001b[0;10m    \u001b[32m0%\u001b[0;10m  \u001b[31m26°C\u001b[0;10m\u001b[0;10m\n",
      "                  \u001b[1m\u001b[0;10m ┃\u001b[0;10m \u001b[0;10msubprocess\u001b[0;10m \u001b[0;10m80852\u001b[0;10m ┃\u001b[0;10m   \u001b[1m\u001b[36m2.4 GB\u001b[0;10m ║\u001b[0;10m \u001b[34m2080 Ti [2]\u001b[0;10m ┃\u001b[0;10m \u001b[33m\u001b[1m\u001b[0;10m\u001b[33m\u001b[1m 6241\u001b[0;10m\u001b[1m / \u001b[0;10m\u001b[33m\u001b[1m 6244\u001b[0;10m\u001b[1m / \u001b[0;10m\u001b[33m\u001b[1m11019 \u001b[0;10m\u001b[1mMB\u001b[0;10m ┃\u001b[0;10m   \u001b[32m\u001b[1m77%\u001b[0;10m  \u001b[31m\u001b[1m55°C\u001b[0;10m\u001b[0;10m\n",
      "                  \u001b[1m\u001b[0;10m ┃\u001b[0;10m \u001b[0;10msubprocess\u001b[0;10m \u001b[0;10m80853\u001b[0;10m ┃\u001b[0;10m   \u001b[1m\u001b[36m1.8 GB\u001b[0;10m ║\u001b[0;10m \u001b[34m2080 Ti [5]\u001b[0;10m ┃\u001b[0;10m \u001b[33m\u001b[1m\u001b[0;10m\u001b[33m\u001b[1m  737\u001b[0;10m\u001b[1m / \u001b[0;10m\u001b[33m\u001b[1m  740\u001b[0;10m\u001b[1m / \u001b[0;10m\u001b[33m\u001b[1m11019 \u001b[0;10m\u001b[1mMB\u001b[0;10m ┃\u001b[0;10m    \u001b[32m0%\u001b[0;10m  \u001b[31m31°C\u001b[0;10m\u001b[0;10m\n",
      "\u001b[1m—\u001b[m\u001b[1m—\u001b[m\u001b[1m—\u001b[m\u001b[1m—\u001b[m\u001b[1m—\u001b[m\u001b[1m—\u001b[m\u001b[1m—\u001b[m\u001b[1m—\u001b[m\u001b[1m—\u001b[m\u001b[1m—\u001b[m\u001b[1m—\u001b[m\u001b[1m—\u001b[m\u001b[1m—\u001b[m\u001b[1m—\u001b[m\u001b[1m—\u001b[m\u001b[1m—\u001b[m\u001b[1m—\u001b[m\u001b[1m—\u001b[m\u001b[1m—\u001b[m\u001b[1m—\u001b[m\u001b[1m—\u001b[m\u001b[1m—\u001b[m\u001b[1m—\u001b[m\u001b[1m—\u001b[m\u001b[1m—\u001b[m\u001b[1m—\u001b[m\u001b[1m—\u001b[m\u001b[1m—\u001b[m\u001b[1m—\u001b[m\u001b[1m—\u001b[m\u001b[1m—\u001b[m\u001b[1m—\u001b[m\u001b[1m—\u001b[m\u001b[1m—\u001b[m\u001b[1m—\u001b[m\u001b[1m—\u001b[m\u001b[1m—\u001b[m\u001b[1m—\u001b[m\u001b[1m—\u001b[m\u001b[1m—\u001b[m\u001b[1m—\u001b[m\u001b[1m—\u001b[m\u001b[1m—\u001b[m\u001b[1m—\u001b[m\u001b[1m—\u001b[m\u001b[1m—\u001b[m\u001b[1m—\u001b[m\u001b[1m—\u001b[m\u001b[1m—\u001b[m\u001b[1m—\u001b[m\u001b[1m—\u001b[m\u001b[1m—\u001b[m\u001b[1m—\u001b[m\u001b[1m—\u001b[m\u001b[1m—\u001b[m\u001b[1m—\u001b[m\u001b[1m—\u001b[m\u001b[1m—\u001b[m\u001b[1m—\u001b[m\u001b[1m—\u001b[m\u001b[1m—\u001b[m\u001b[1m—\u001b[m\u001b[1m—\u001b[m\u001b[1m—\u001b[m\u001b[1m—\u001b[m\u001b[1m—\u001b[m\u001b[1m—\u001b[m\u001b[1m—\u001b[m\u001b[1m—\u001b[m\u001b[1m—\u001b[m\u001b[1m—\u001b[m\u001b[1m—\u001b[m\u001b[1m—\u001b[m\u001b[1m—\u001b[m\u001b[1m—\u001b[m\u001b[1m—\u001b[m\u001b[1m—\u001b[m\u001b[1m—\u001b[m\u001b[1m—\u001b[m\u001b[1m—\u001b[m\u001b[1m—\u001b[m\u001b[1m—\u001b[m\u001b[1m—\u001b[m\u001b[1m—\u001b[m\u001b[1m—\u001b[m\u001b[1m—\u001b[m\u001b[1m—\u001b[m\u001b[1m—\u001b[m\u001b[1m—\u001b[m\u001b[1m—\u001b[m\u001b[1m—\u001b[m\u001b[1m—\u001b[m\u001b[1m—\u001b[m\u001b[1m—\u001b[m\u001b[1m—\u001b[m\u001b[1m—\u001b[m\u001b[1m—\u001b[m\u001b[1m—\u001b[m\u001b[1m—\u001b[m\u001b[1m—\u001b[m\u001b[1m—\u001b[m\u001b[1m—\u001b[m\u001b[1m—\u001b[m\n",
      "\u001b[1mDemoConvNeXt.ipynb\u001b[0;10m ┃\u001b[0;10m   \u001b[0;10mnotebook\u001b[0;10m \u001b[0;10m18851\u001b[0;10m ┃\u001b[0;10m   \u001b[1m\u001b[36m5.1 GB\u001b[0;10m ║\u001b[0;10m \u001b[34m2080 Ti [7]\u001b[0;10m ┃\u001b[0;10m \u001b[33m\u001b[1m\u001b[0;10m\u001b[33m\u001b[1m 6451\u001b[0;10m\u001b[1m / \u001b[0;10m\u001b[33m\u001b[1m 6454\u001b[0;10m\u001b[1m / \u001b[0;10m\u001b[33m\u001b[1m11019 \u001b[0;10m\u001b[1mMB\u001b[0;10m ┃\u001b[0;10m   \u001b[32m\u001b[1m89%\u001b[0;10m  \u001b[31m\u001b[1m74°C\u001b[0;10m\u001b[0;10m\n",
      "\u001b[1m—\u001b[m\u001b[1m—\u001b[m\u001b[1m—\u001b[m\u001b[1m—\u001b[m\u001b[1m—\u001b[m\u001b[1m—\u001b[m\u001b[1m—\u001b[m\u001b[1m—\u001b[m\u001b[1m—\u001b[m\u001b[1m—\u001b[m\u001b[1m—\u001b[m\u001b[1m—\u001b[m\u001b[1m—\u001b[m\u001b[1m—\u001b[m\u001b[1m—\u001b[m\u001b[1m—\u001b[m\u001b[1m—\u001b[m\u001b[1m—\u001b[m\u001b[1m—\u001b[m\u001b[1m—\u001b[m\u001b[1m—\u001b[m\u001b[1m—\u001b[m\u001b[1m—\u001b[m\u001b[1m—\u001b[m\u001b[1m—\u001b[m\u001b[1m—\u001b[m\u001b[1m—\u001b[m\u001b[1m—\u001b[m\u001b[1m—\u001b[m\u001b[1m—\u001b[m\u001b[1m—\u001b[m\u001b[1m—\u001b[m\u001b[1m—\u001b[m\u001b[1m—\u001b[m\u001b[1m—\u001b[m\u001b[1m—\u001b[m\u001b[1m—\u001b[m\u001b[1m—\u001b[m\u001b[1m—\u001b[m\u001b[1m—\u001b[m\u001b[1m—\u001b[m\u001b[1m—\u001b[m\u001b[1m—\u001b[m\u001b[1m—\u001b[m\u001b[1m—\u001b[m\u001b[1m—\u001b[m\u001b[1m—\u001b[m\u001b[1m—\u001b[m\u001b[1m—\u001b[m\u001b[1m—\u001b[m\u001b[1m—\u001b[m\u001b[1m—\u001b[m\u001b[1m—\u001b[m\u001b[1m—\u001b[m\u001b[1m—\u001b[m\u001b[1m—\u001b[m\u001b[1m—\u001b[m\u001b[1m—\u001b[m\u001b[1m—\u001b[m\u001b[1m—\u001b[m\u001b[1m—\u001b[m\u001b[1m—\u001b[m\u001b[1m—\u001b[m\u001b[1m—\u001b[m\u001b[1m—\u001b[m\u001b[1m—\u001b[m\u001b[1m—\u001b[m\u001b[1m—\u001b[m\u001b[1m—\u001b[m\u001b[1m—\u001b[m\u001b[1m—\u001b[m\u001b[1m—\u001b[m\u001b[1m—\u001b[m\u001b[1m—\u001b[m\u001b[1m—\u001b[m\u001b[1m—\u001b[m\u001b[1m—\u001b[m\u001b[1m—\u001b[m\u001b[1m—\u001b[m\u001b[1m—\u001b[m\u001b[1m—\u001b[m\u001b[1m—\u001b[m\u001b[1m—\u001b[m\u001b[1m—\u001b[m\u001b[1m—\u001b[m\u001b[1m—\u001b[m\u001b[1m—\u001b[m\u001b[1m—\u001b[m\u001b[1m—\u001b[m\u001b[1m—\u001b[m\u001b[1m—\u001b[m\u001b[1m—\u001b[m\u001b[1m—\u001b[m\u001b[1m—\u001b[m\u001b[1m—\u001b[m\u001b[1m—\u001b[m\u001b[1m—\u001b[m\u001b[1m—\u001b[m\u001b[1m—\u001b[m\u001b[1m—\u001b[m\u001b[1m—\u001b[m\u001b[1m—\u001b[m\u001b[1m—\u001b[m\n",
      "        \u001b[1mDemo.ipynb\u001b[0;10m ┃\u001b[0;10m   \u001b[0;10mnotebook\u001b[0;10m \u001b[0;10m19305\u001b[0;10m ┃\u001b[0;10m   \u001b[1m\u001b[36m4.6 GB\u001b[0;10m ║\u001b[0;10m \u001b[34m2080 Ti [6]\u001b[0;10m ┃\u001b[0;10m \u001b[33m\u001b[1m\u001b[0;10m\u001b[33m\u001b[1m 3363\u001b[0;10m\u001b[1m / \u001b[0;10m\u001b[33m\u001b[1m 3366\u001b[0;10m\u001b[1m / \u001b[0;10m\u001b[33m\u001b[1m11019 \u001b[0;10m\u001b[1mMB\u001b[0;10m ┃\u001b[0;10m   \u001b[32m\u001b[1m63%\u001b[0;10m  \u001b[31m\u001b[1m76°C\u001b[0;10m\u001b[0;10m\n",
      "\u001b[1m—\u001b[m\u001b[1m—\u001b[m\u001b[1m—\u001b[m\u001b[1m—\u001b[m\u001b[1m—\u001b[m\u001b[1m—\u001b[m\u001b[1m—\u001b[m\u001b[1m—\u001b[m\u001b[1m—\u001b[m\u001b[1m—\u001b[m\u001b[1m—\u001b[m\u001b[1m—\u001b[m\u001b[1m—\u001b[m\u001b[1m—\u001b[m\u001b[1m—\u001b[m\u001b[1m—\u001b[m\u001b[1m—\u001b[m\u001b[1m—\u001b[m\u001b[1m—\u001b[m\u001b[1m—\u001b[m\u001b[1m—\u001b[m\u001b[1m—\u001b[m\u001b[1m—\u001b[m\u001b[1m—\u001b[m\u001b[1m—\u001b[m\u001b[1m—\u001b[m\u001b[1m—\u001b[m\u001b[1m—\u001b[m\u001b[1m—\u001b[m\u001b[1m—\u001b[m\u001b[1m—\u001b[m\u001b[1m—\u001b[m\u001b[1m—\u001b[m\u001b[1m—\u001b[m\u001b[1m—\u001b[m\u001b[1m—\u001b[m\u001b[1m—\u001b[m\u001b[1m—\u001b[m\u001b[1m—\u001b[m\u001b[1m—\u001b[m\u001b[1m—\u001b[m\u001b[1m—\u001b[m\u001b[1m—\u001b[m\u001b[1m—\u001b[m\u001b[1m—\u001b[m\u001b[1m—\u001b[m\u001b[1m—\u001b[m\u001b[1m—\u001b[m\u001b[1m—\u001b[m\u001b[1m—\u001b[m\u001b[1m—\u001b[m\u001b[1m—\u001b[m\u001b[1m—\u001b[m\u001b[1m—\u001b[m\u001b[1m—\u001b[m\u001b[1m—\u001b[m\u001b[1m—\u001b[m\u001b[1m—\u001b[m\u001b[1m—\u001b[m\u001b[1m—\u001b[m\u001b[1m—\u001b[m\u001b[1m—\u001b[m\u001b[1m—\u001b[m\u001b[1m—\u001b[m\u001b[1m—\u001b[m\u001b[1m—\u001b[m\u001b[1m—\u001b[m\u001b[1m—\u001b[m\u001b[1m—\u001b[m\u001b[1m—\u001b[m\u001b[1m—\u001b[m\u001b[1m—\u001b[m\u001b[1m—\u001b[m\u001b[1m—\u001b[m\u001b[1m—\u001b[m\u001b[1m—\u001b[m\u001b[1m—\u001b[m\u001b[1m—\u001b[m\u001b[1m—\u001b[m\u001b[1m—\u001b[m\u001b[1m—\u001b[m\u001b[1m—\u001b[m\u001b[1m—\u001b[m\u001b[1m—\u001b[m\u001b[1m—\u001b[m\u001b[1m—\u001b[m\u001b[1m—\u001b[m\u001b[1m—\u001b[m\u001b[1m—\u001b[m\u001b[1m—\u001b[m\u001b[1m—\u001b[m\u001b[1m—\u001b[m\u001b[1m—\u001b[m\u001b[1m—\u001b[m\u001b[1m—\u001b[m\u001b[1m—\u001b[m\u001b[1m—\u001b[m\u001b[1m—\u001b[m\u001b[1m—\u001b[m\u001b[1m—\u001b[m\u001b[1m—\u001b[m\u001b[1m—\u001b[m\u001b[1m—\u001b[m\n",
      "   \u001b[1mBenchmark.ipynb\u001b[0;10m ┃\u001b[0;10m   \u001b[0;10mnotebook\u001b[0;10m \u001b[0;10m19743\u001b[0;10m ┃\u001b[0;10m   \u001b[1m\u001b[36m4.0 GB\u001b[0;10m ║\u001b[0;10m \u001b[34m2080 Ti [1]\u001b[0;10m ┃\u001b[0;10m \u001b[33m\u001b[1m\u001b[0;10m\u001b[33m\u001b[1m10011\u001b[0;10m\u001b[1m / \u001b[0;10m\u001b[33m\u001b[1m10014\u001b[0;10m\u001b[1m / \u001b[0;10m\u001b[33m\u001b[1m11019 \u001b[0;10m\u001b[1mMB\u001b[0;10m ┃\u001b[0;10m   \u001b[32m\u001b[1m94%\u001b[0;10m  \u001b[31m\u001b[1m73°C\u001b[0;10m\u001b[0;10m\n"
     ]
    }
   ],
   "source": [
    "nbstat_view = inspector.get_view(name='nbstat', formatter=NBSTAT_FORMATTER, verbose=0,\n",
    "                                 add_header=True, separate_header=True, underline_header=True)\n",
    "print(nbstat_view)"
   ]
  },
  {
   "cell_type": "code",
   "execution_count": 4,
   "id": "274d5737-b239-4e04-b75f-f11fc39cb12b",
   "metadata": {
    "execution": {
     "iopub.execute_input": "2022-02-10T23:18:06.150785Z",
     "iopub.status.busy": "2022-02-10T23:18:06.150336Z",
     "iopub.status.idle": "2022-02-10T23:18:11.005603Z",
     "shell.execute_reply": "2022-02-10T23:18:11.004432Z",
     "shell.execute_reply.started": "2022-02-10T23:18:06.150740Z"
    }
   },
   "outputs": [
    {
     "name": "stdout",
     "output_type": "stream",
     "text": [
      "60.3 ms ± 2.52 ms per loop (mean ± std. dev. of 7 runs, 10 loops each)\n"
     ]
    }
   ],
   "source": [
    "%%timeit\n",
    "inspector.get_view(name='nbstat', formatter=NBSTAT_FORMATTER);"
   ]
  },
  {
   "cell_type": "markdown",
   "id": "f58e5bef-c208-45f1-b500-67c9e1828ecd",
   "metadata": {},
   "source": [
    "# Modified NBSTAT"
   ]
  },
  {
   "cell_type": "code",
   "execution_count": 5,
   "id": "c285524c-0085-418c-9fca-a8941304a8d7",
   "metadata": {
    "execution": {
     "iopub.execute_input": "2022-02-10T23:18:11.007985Z",
     "iopub.status.busy": "2022-02-10T23:18:11.007611Z",
     "iopub.status.idle": "2022-02-10T23:18:11.014583Z",
     "shell.execute_reply": "2022-02-10T23:18:11.014030Z",
     "shell.execute_reply.started": "2022-02-10T23:18:11.007937Z"
    },
    "tags": []
   },
   "outputs": [],
   "source": [
    "formatter = NBSTAT_FORMATTER.copy()\n",
    "formatter.update({'power' : True, 'cpu' : True})"
   ]
  },
  {
   "cell_type": "code",
   "execution_count": 6,
   "id": "caf3a6b7-7baa-4adf-b743-ba44d06a9a58",
   "metadata": {
    "execution": {
     "iopub.execute_input": "2022-02-10T23:18:11.015610Z",
     "iopub.status.busy": "2022-02-10T23:18:11.015434Z",
     "iopub.status.idle": "2022-02-10T23:18:11.104026Z",
     "shell.execute_reply": "2022-02-10T23:18:11.103329Z",
     "shell.execute_reply.started": "2022-02-10T23:18:11.015589Z"
    },
    "tags": []
   },
   "outputs": [
    {
     "name": "stdout",
     "output_type": "stream",
     "text": [
      "                                                      \u001b[1m\u001b[4m2022-02-10 23:18:11\u001b[0;10m    \u001b[1m\u001b[4mDriver Version: 470.82\u001b[0;10m    \u001b[1m\u001b[4mCUDA Version: 11.4\u001b[0;10m\n",
      "      \u001b[1m\u001b[4mPROCESS NAME\u001b[0;10m ┃\u001b[0;10m       \u001b[0;10m\u001b[4mTYPE\u001b[0;10m   \u001b[0;10m\u001b[4mPID\u001b[0;10m ┃\u001b[0;10m   \u001b[1m\u001b[36m\u001b[4m\u001b[1mCPU\u001b[0;10m      \u001b[1m\u001b[36m\u001b[4mRSS\u001b[0;10m ║\u001b[0;10m   \u001b[34m\u001b[4mDEVICE ID\u001b[0;10m ┃\u001b[0;10m           \u001b[33m\u001b[4m\u001b[1mPROCESS MEMORY\u001b[0;10m ┃\u001b[0;10m  \u001b[32m\u001b[4m\u001b[1mUTIL\u001b[0;10m  \u001b[31m\u001b[4m\u001b[1mTEMP\u001b[0;10m ┃\u001b[0;10m     \u001b[35m\u001b[4mPOWER\u001b[0;10m\u001b[0;10m\n",
      "\u001b[1m—\u001b[m\u001b[1m—\u001b[m\u001b[1m—\u001b[m\u001b[1m—\u001b[m\u001b[1m—\u001b[m\u001b[1m—\u001b[m\u001b[1m—\u001b[m\u001b[1m—\u001b[m\u001b[1m—\u001b[m\u001b[1m—\u001b[m\u001b[1m—\u001b[m\u001b[1m—\u001b[m\u001b[1m—\u001b[m\u001b[1m—\u001b[m\u001b[1m—\u001b[m\u001b[1m—\u001b[m\u001b[1m—\u001b[m\u001b[1m—\u001b[m\u001b[1m—\u001b[m\u001b[1m—\u001b[m\u001b[1m—\u001b[m\u001b[1m—\u001b[m\u001b[1m—\u001b[m\u001b[1m—\u001b[m\u001b[1m—\u001b[m\u001b[1m—\u001b[m\u001b[1m—\u001b[m\u001b[1m—\u001b[m\u001b[1m—\u001b[m\u001b[1m—\u001b[m\u001b[1m—\u001b[m\u001b[1m—\u001b[m\u001b[1m—\u001b[m\u001b[1m—\u001b[m\u001b[1m—\u001b[m\u001b[1m—\u001b[m\u001b[1m—\u001b[m\u001b[1m—\u001b[m\u001b[1m—\u001b[m\u001b[1m—\u001b[m\u001b[1m—\u001b[m\u001b[1m—\u001b[m\u001b[1m—\u001b[m\u001b[1m—\u001b[m\u001b[1m—\u001b[m\u001b[1m—\u001b[m\u001b[1m—\u001b[m\u001b[1m—\u001b[m\u001b[1m—\u001b[m\u001b[1m—\u001b[m\u001b[1m—\u001b[m\u001b[1m—\u001b[m\u001b[1m—\u001b[m\u001b[1m—\u001b[m\u001b[1m—\u001b[m\u001b[1m—\u001b[m\u001b[1m—\u001b[m\u001b[1m—\u001b[m\u001b[1m—\u001b[m\u001b[1m—\u001b[m\u001b[1m—\u001b[m\u001b[1m—\u001b[m\u001b[1m—\u001b[m\u001b[1m—\u001b[m\u001b[1m—\u001b[m\u001b[1m—\u001b[m\u001b[1m—\u001b[m\u001b[1m—\u001b[m\u001b[1m—\u001b[m\u001b[1m—\u001b[m\u001b[1m—\u001b[m\u001b[1m—\u001b[m\u001b[1m—\u001b[m\u001b[1m—\u001b[m\u001b[1m—\u001b[m\u001b[1m—\u001b[m\u001b[1m—\u001b[m\u001b[1m—\u001b[m\u001b[1m—\u001b[m\u001b[1m—\u001b[m\u001b[1m—\u001b[m\u001b[1m—\u001b[m\u001b[1m—\u001b[m\u001b[1m—\u001b[m\u001b[1m—\u001b[m\u001b[1m—\u001b[m\u001b[1m—\u001b[m\u001b[1m—\u001b[m\u001b[1m—\u001b[m\u001b[1m—\u001b[m\u001b[1m—\u001b[m\u001b[1m—\u001b[m\u001b[1m—\u001b[m\u001b[1m—\u001b[m\u001b[1m—\u001b[m\u001b[1m—\u001b[m\u001b[1m—\u001b[m\u001b[1m—\u001b[m\u001b[1m—\u001b[m\u001b[1m—\u001b[m\u001b[1m—\u001b[m\u001b[1m—\u001b[m\u001b[1m—\u001b[m\u001b[1m—\u001b[m\u001b[1m—\u001b[m\u001b[1m—\u001b[m\u001b[1m—\u001b[m\u001b[1m—\u001b[m\u001b[1m—\u001b[m\u001b[1m—\u001b[m\u001b[1m—\u001b[m\u001b[1m—\u001b[m\u001b[1m—\u001b[m\u001b[1m—\u001b[m\u001b[1m—\u001b[m\u001b[1m—\u001b[m\u001b[1m—\u001b[m\u001b[1m—\u001b[m\u001b[1m—\u001b[m\u001b[1m—\u001b[m\u001b[1m—\u001b[m\n",
      "     \u001b[1mgpu_script.py\u001b[0;10m ┃\u001b[0;10m     \u001b[0;10mscript\u001b[0;10m \u001b[0;10m70572\u001b[0;10m ┃\u001b[0;10m    \u001b[1m\u001b[36m0%\u001b[0;10m   \u001b[1m\u001b[36m0.2 GB\u001b[0;10m ║\u001b[0;10m           \u001b[34m-\u001b[0;10m ┃\u001b[0;10m                        \u001b[33m-\u001b[0;10m ┃\u001b[0;10m     \u001b[32m-\u001b[0;10m     \u001b[31m-\u001b[0;10m ┃\u001b[0;10m         \u001b[35m-\u001b[0;10m\u001b[0;10m\n",
      "                  \u001b[1m\u001b[0;10m ┃\u001b[0;10m \u001b[0;10msubprocess\u001b[0;10m \u001b[0;10m70645\u001b[0;10m ┃\u001b[0;10m  \u001b[1m\u001b[36m\u001b[1m129%\u001b[0;10m   \u001b[1m\u001b[36m2.3 GB\u001b[0;10m ║\u001b[0;10m \u001b[34m2080 Ti [0]\u001b[0;10m ┃\u001b[0;10m \u001b[33m\u001b[1m\u001b[0;10m\u001b[33m\u001b[1m  737\u001b[0;10m\u001b[1m / \u001b[0;10m\u001b[33m\u001b[1m 2214\u001b[0;10m\u001b[1m / \u001b[0;10m\u001b[33m\u001b[1m11019 \u001b[0;10m\u001b[1mMB\u001b[0;10m ┃\u001b[0;10m    \u001b[32m0%\u001b[0;10m  \u001b[31m26°C\u001b[0;10m ┃\u001b[0;10m \u001b[35m 18/260 W\u001b[0;10m\u001b[0;10m\n",
      "                  \u001b[1m\u001b[0;10m ┃\u001b[0;10m \u001b[0;10msubprocess\u001b[0;10m \u001b[0;10m70646\u001b[0;10m ┃\u001b[0;10m  \u001b[1m\u001b[36m\u001b[1m134%\u001b[0;10m   \u001b[1m\u001b[36m2.3 GB\u001b[0;10m ║\u001b[0;10m \u001b[34m2080 Ti [0]\u001b[0;10m ┃\u001b[0;10m \u001b[33m\u001b[1m\u001b[0;10m\u001b[33m\u001b[1m  737\u001b[0;10m\u001b[1m / \u001b[0;10m\u001b[33m\u001b[1m 2214\u001b[0;10m\u001b[1m / \u001b[0;10m\u001b[33m\u001b[1m11019 \u001b[0;10m\u001b[1mMB\u001b[0;10m ┃\u001b[0;10m    \u001b[32m0%\u001b[0;10m  \u001b[31m26°C\u001b[0;10m ┃\u001b[0;10m \u001b[35m 18/260 W\u001b[0;10m\u001b[0;10m\n",
      "                  \u001b[1m\u001b[0;10m ┃\u001b[0;10m \u001b[0;10msubprocess\u001b[0;10m \u001b[0;10m70645\u001b[0;10m ┃\u001b[0;10m    \u001b[1m\u001b[36m0%\u001b[0;10m   \u001b[1m\u001b[36m2.3 GB\u001b[0;10m ║\u001b[0;10m \u001b[34m2080 Ti [3]\u001b[0;10m ┃\u001b[0;10m \u001b[33m\u001b[1m\u001b[0;10m\u001b[33m\u001b[1m 2833\u001b[0;10m\u001b[1m / \u001b[0;10m\u001b[33m\u001b[1m 2836\u001b[0;10m\u001b[1m / \u001b[0;10m\u001b[33m\u001b[1m11019 \u001b[0;10m\u001b[1mMB\u001b[0;10m ┃\u001b[0;10m   \u001b[32m\u001b[1m69%\u001b[0;10m  \u001b[31m\u001b[1m55°C\u001b[0;10m ┃\u001b[0;10m \u001b[35m 89/260 W\u001b[0;10m\u001b[0;10m\n",
      "                  \u001b[1m\u001b[0;10m ┃\u001b[0;10m \u001b[0;10msubprocess\u001b[0;10m \u001b[0;10m70646\u001b[0;10m ┃\u001b[0;10m    \u001b[1m\u001b[36m0%\u001b[0;10m   \u001b[1m\u001b[36m2.3 GB\u001b[0;10m ║\u001b[0;10m \u001b[34m2080 Ti [4]\u001b[0;10m ┃\u001b[0;10m \u001b[33m\u001b[1m\u001b[0;10m\u001b[33m\u001b[1m 2833\u001b[0;10m\u001b[1m / \u001b[0;10m\u001b[33m\u001b[1m 2836\u001b[0;10m\u001b[1m / \u001b[0;10m\u001b[33m\u001b[1m11019 \u001b[0;10m\u001b[1mMB\u001b[0;10m ┃\u001b[0;10m   \u001b[32m\u001b[1m78%\u001b[0;10m  \u001b[31m\u001b[1m55°C\u001b[0;10m ┃\u001b[0;10m \u001b[35m102/260 W\u001b[0;10m\u001b[0;10m\n",
      "\u001b[1m—\u001b[m\u001b[1m—\u001b[m\u001b[1m—\u001b[m\u001b[1m—\u001b[m\u001b[1m—\u001b[m\u001b[1m—\u001b[m\u001b[1m—\u001b[m\u001b[1m—\u001b[m\u001b[1m—\u001b[m\u001b[1m—\u001b[m\u001b[1m—\u001b[m\u001b[1m—\u001b[m\u001b[1m—\u001b[m\u001b[1m—\u001b[m\u001b[1m—\u001b[m\u001b[1m—\u001b[m\u001b[1m—\u001b[m\u001b[1m—\u001b[m\u001b[1m—\u001b[m\u001b[1m—\u001b[m\u001b[1m—\u001b[m\u001b[1m—\u001b[m\u001b[1m—\u001b[m\u001b[1m—\u001b[m\u001b[1m—\u001b[m\u001b[1m—\u001b[m\u001b[1m—\u001b[m\u001b[1m—\u001b[m\u001b[1m—\u001b[m\u001b[1m—\u001b[m\u001b[1m—\u001b[m\u001b[1m—\u001b[m\u001b[1m—\u001b[m\u001b[1m—\u001b[m\u001b[1m—\u001b[m\u001b[1m—\u001b[m\u001b[1m—\u001b[m\u001b[1m—\u001b[m\u001b[1m—\u001b[m\u001b[1m—\u001b[m\u001b[1m—\u001b[m\u001b[1m—\u001b[m\u001b[1m—\u001b[m\u001b[1m—\u001b[m\u001b[1m—\u001b[m\u001b[1m—\u001b[m\u001b[1m—\u001b[m\u001b[1m—\u001b[m\u001b[1m—\u001b[m\u001b[1m—\u001b[m\u001b[1m—\u001b[m\u001b[1m—\u001b[m\u001b[1m—\u001b[m\u001b[1m—\u001b[m\u001b[1m—\u001b[m\u001b[1m—\u001b[m\u001b[1m—\u001b[m\u001b[1m—\u001b[m\u001b[1m—\u001b[m\u001b[1m—\u001b[m\u001b[1m—\u001b[m\u001b[1m—\u001b[m\u001b[1m—\u001b[m\u001b[1m—\u001b[m\u001b[1m—\u001b[m\u001b[1m—\u001b[m\u001b[1m—\u001b[m\u001b[1m—\u001b[m\u001b[1m—\u001b[m\u001b[1m—\u001b[m\u001b[1m—\u001b[m\u001b[1m—\u001b[m\u001b[1m—\u001b[m\u001b[1m—\u001b[m\u001b[1m—\u001b[m\u001b[1m—\u001b[m\u001b[1m—\u001b[m\u001b[1m—\u001b[m\u001b[1m—\u001b[m\u001b[1m—\u001b[m\u001b[1m—\u001b[m\u001b[1m—\u001b[m\u001b[1m—\u001b[m\u001b[1m—\u001b[m\u001b[1m—\u001b[m\u001b[1m—\u001b[m\u001b[1m—\u001b[m\u001b[1m—\u001b[m\u001b[1m—\u001b[m\u001b[1m—\u001b[m\u001b[1m—\u001b[m\u001b[1m—\u001b[m\u001b[1m—\u001b[m\u001b[1m—\u001b[m\u001b[1m—\u001b[m\u001b[1m—\u001b[m\u001b[1m—\u001b[m\u001b[1m—\u001b[m\u001b[1m—\u001b[m\u001b[1m—\u001b[m\u001b[1m—\u001b[m\u001b[1m—\u001b[m\u001b[1m—\u001b[m\u001b[1m—\u001b[m\u001b[1m—\u001b[m\u001b[1m—\u001b[m\u001b[1m—\u001b[m\u001b[1m—\u001b[m\u001b[1m—\u001b[m\u001b[1m—\u001b[m\u001b[1m—\u001b[m\u001b[1m—\u001b[m\u001b[1m—\u001b[m\u001b[1m—\u001b[m\u001b[1m—\u001b[m\u001b[1m—\u001b[m\u001b[1m—\u001b[m\u001b[1m—\u001b[m\u001b[1m—\u001b[m\u001b[1m—\u001b[m\u001b[1m—\u001b[m\n",
      "     \u001b[1mExample.ipynb\u001b[0;10m ┃\u001b[0;10m   \u001b[0;10mnotebook\u001b[0;10m \u001b[0;10m80755\u001b[0;10m ┃\u001b[0;10m    \u001b[1m\u001b[36m0%\u001b[0;10m   \u001b[1m\u001b[36m0.1 GB\u001b[0;10m ║\u001b[0;10m           \u001b[34m-\u001b[0;10m ┃\u001b[0;10m                        \u001b[33m-\u001b[0;10m ┃\u001b[0;10m     \u001b[32m-\u001b[0;10m     \u001b[31m-\u001b[0;10m ┃\u001b[0;10m         \u001b[35m-\u001b[0;10m\u001b[0;10m\n",
      "                  \u001b[1m\u001b[0;10m ┃\u001b[0;10m \u001b[0;10msubprocess\u001b[0;10m \u001b[0;10m80852\u001b[0;10m ┃\u001b[0;10m   \u001b[1m\u001b[36m\u001b[1m84%\u001b[0;10m   \u001b[1m\u001b[36m2.4 GB\u001b[0;10m ║\u001b[0;10m \u001b[34m2080 Ti [0]\u001b[0;10m ┃\u001b[0;10m \u001b[33m\u001b[1m\u001b[0;10m\u001b[33m\u001b[1m  737\u001b[0;10m\u001b[1m / \u001b[0;10m\u001b[33m\u001b[1m 2214\u001b[0;10m\u001b[1m / \u001b[0;10m\u001b[33m\u001b[1m11019 \u001b[0;10m\u001b[1mMB\u001b[0;10m ┃\u001b[0;10m    \u001b[32m0%\u001b[0;10m  \u001b[31m26°C\u001b[0;10m ┃\u001b[0;10m \u001b[35m 18/260 W\u001b[0;10m\u001b[0;10m\n",
      "                  \u001b[1m\u001b[0;10m ┃\u001b[0;10m \u001b[0;10msubprocess\u001b[0;10m \u001b[0;10m80852\u001b[0;10m ┃\u001b[0;10m    \u001b[1m\u001b[36m0%\u001b[0;10m   \u001b[1m\u001b[36m2.4 GB\u001b[0;10m ║\u001b[0;10m \u001b[34m2080 Ti [2]\u001b[0;10m ┃\u001b[0;10m \u001b[33m\u001b[1m\u001b[0;10m\u001b[33m\u001b[1m 2833\u001b[0;10m\u001b[1m / \u001b[0;10m\u001b[33m\u001b[1m 2836\u001b[0;10m\u001b[1m / \u001b[0;10m\u001b[33m\u001b[1m11019 \u001b[0;10m\u001b[1mMB\u001b[0;10m ┃\u001b[0;10m   \u001b[32m\u001b[1m70%\u001b[0;10m  \u001b[31m\u001b[1m54°C\u001b[0;10m ┃\u001b[0;10m \u001b[35m116/260 W\u001b[0;10m\u001b[0;10m\n",
      "                  \u001b[1m\u001b[0;10m ┃\u001b[0;10m \u001b[0;10msubprocess\u001b[0;10m \u001b[0;10m80853\u001b[0;10m ┃\u001b[0;10m    \u001b[1m\u001b[36m0%\u001b[0;10m   \u001b[1m\u001b[36m1.8 GB\u001b[0;10m ║\u001b[0;10m \u001b[34m2080 Ti [5]\u001b[0;10m ┃\u001b[0;10m \u001b[33m\u001b[1m\u001b[0;10m\u001b[33m\u001b[1m  737\u001b[0;10m\u001b[1m / \u001b[0;10m\u001b[33m\u001b[1m  740\u001b[0;10m\u001b[1m / \u001b[0;10m\u001b[33m\u001b[1m11019 \u001b[0;10m\u001b[1mMB\u001b[0;10m ┃\u001b[0;10m    \u001b[32m0%\u001b[0;10m  \u001b[31m31°C\u001b[0;10m ┃\u001b[0;10m \u001b[35m 11/260 W\u001b[0;10m\u001b[0;10m\n",
      "\u001b[1m—\u001b[m\u001b[1m—\u001b[m\u001b[1m—\u001b[m\u001b[1m—\u001b[m\u001b[1m—\u001b[m\u001b[1m—\u001b[m\u001b[1m—\u001b[m\u001b[1m—\u001b[m\u001b[1m—\u001b[m\u001b[1m—\u001b[m\u001b[1m—\u001b[m\u001b[1m—\u001b[m\u001b[1m—\u001b[m\u001b[1m—\u001b[m\u001b[1m—\u001b[m\u001b[1m—\u001b[m\u001b[1m—\u001b[m\u001b[1m—\u001b[m\u001b[1m—\u001b[m\u001b[1m—\u001b[m\u001b[1m—\u001b[m\u001b[1m—\u001b[m\u001b[1m—\u001b[m\u001b[1m—\u001b[m\u001b[1m—\u001b[m\u001b[1m—\u001b[m\u001b[1m—\u001b[m\u001b[1m—\u001b[m\u001b[1m—\u001b[m\u001b[1m—\u001b[m\u001b[1m—\u001b[m\u001b[1m—\u001b[m\u001b[1m—\u001b[m\u001b[1m—\u001b[m\u001b[1m—\u001b[m\u001b[1m—\u001b[m\u001b[1m—\u001b[m\u001b[1m—\u001b[m\u001b[1m—\u001b[m\u001b[1m—\u001b[m\u001b[1m—\u001b[m\u001b[1m—\u001b[m\u001b[1m—\u001b[m\u001b[1m—\u001b[m\u001b[1m—\u001b[m\u001b[1m—\u001b[m\u001b[1m—\u001b[m\u001b[1m—\u001b[m\u001b[1m—\u001b[m\u001b[1m—\u001b[m\u001b[1m—\u001b[m\u001b[1m—\u001b[m\u001b[1m—\u001b[m\u001b[1m—\u001b[m\u001b[1m—\u001b[m\u001b[1m—\u001b[m\u001b[1m—\u001b[m\u001b[1m—\u001b[m\u001b[1m—\u001b[m\u001b[1m—\u001b[m\u001b[1m—\u001b[m\u001b[1m—\u001b[m\u001b[1m—\u001b[m\u001b[1m—\u001b[m\u001b[1m—\u001b[m\u001b[1m—\u001b[m\u001b[1m—\u001b[m\u001b[1m—\u001b[m\u001b[1m—\u001b[m\u001b[1m—\u001b[m\u001b[1m—\u001b[m\u001b[1m—\u001b[m\u001b[1m—\u001b[m\u001b[1m—\u001b[m\u001b[1m—\u001b[m\u001b[1m—\u001b[m\u001b[1m—\u001b[m\u001b[1m—\u001b[m\u001b[1m—\u001b[m\u001b[1m—\u001b[m\u001b[1m—\u001b[m\u001b[1m—\u001b[m\u001b[1m—\u001b[m\u001b[1m—\u001b[m\u001b[1m—\u001b[m\u001b[1m—\u001b[m\u001b[1m—\u001b[m\u001b[1m—\u001b[m\u001b[1m—\u001b[m\u001b[1m—\u001b[m\u001b[1m—\u001b[m\u001b[1m—\u001b[m\u001b[1m—\u001b[m\u001b[1m—\u001b[m\u001b[1m—\u001b[m\u001b[1m—\u001b[m\u001b[1m—\u001b[m\u001b[1m—\u001b[m\u001b[1m—\u001b[m\u001b[1m—\u001b[m\u001b[1m—\u001b[m\u001b[1m—\u001b[m\u001b[1m—\u001b[m\u001b[1m—\u001b[m\u001b[1m—\u001b[m\u001b[1m—\u001b[m\u001b[1m—\u001b[m\u001b[1m—\u001b[m\u001b[1m—\u001b[m\u001b[1m—\u001b[m\u001b[1m—\u001b[m\u001b[1m—\u001b[m\u001b[1m—\u001b[m\u001b[1m—\u001b[m\u001b[1m—\u001b[m\u001b[1m—\u001b[m\u001b[1m—\u001b[m\u001b[1m—\u001b[m\u001b[1m—\u001b[m\u001b[1m—\u001b[m\u001b[1m—\u001b[m\n",
      "\u001b[1mDemoConvNeXt.ipynb\u001b[0;10m ┃\u001b[0;10m   \u001b[0;10mnotebook\u001b[0;10m \u001b[0;10m18851\u001b[0;10m ┃\u001b[0;10m   \u001b[1m\u001b[36m\u001b[1m64%\u001b[0;10m   \u001b[1m\u001b[36m5.1 GB\u001b[0;10m ║\u001b[0;10m \u001b[34m2080 Ti [7]\u001b[0;10m ┃\u001b[0;10m \u001b[33m\u001b[1m\u001b[0;10m\u001b[33m\u001b[1m 6451\u001b[0;10m\u001b[1m / \u001b[0;10m\u001b[33m\u001b[1m 6454\u001b[0;10m\u001b[1m / \u001b[0;10m\u001b[33m\u001b[1m11019 \u001b[0;10m\u001b[1mMB\u001b[0;10m ┃\u001b[0;10m   \u001b[32m\u001b[1m98%\u001b[0;10m  \u001b[31m\u001b[1m74°C\u001b[0;10m ┃\u001b[0;10m \u001b[35m247/260 W\u001b[0;10m\u001b[0;10m\n",
      "\u001b[1m—\u001b[m\u001b[1m—\u001b[m\u001b[1m—\u001b[m\u001b[1m—\u001b[m\u001b[1m—\u001b[m\u001b[1m—\u001b[m\u001b[1m—\u001b[m\u001b[1m—\u001b[m\u001b[1m—\u001b[m\u001b[1m—\u001b[m\u001b[1m—\u001b[m\u001b[1m—\u001b[m\u001b[1m—\u001b[m\u001b[1m—\u001b[m\u001b[1m—\u001b[m\u001b[1m—\u001b[m\u001b[1m—\u001b[m\u001b[1m—\u001b[m\u001b[1m—\u001b[m\u001b[1m—\u001b[m\u001b[1m—\u001b[m\u001b[1m—\u001b[m\u001b[1m—\u001b[m\u001b[1m—\u001b[m\u001b[1m—\u001b[m\u001b[1m—\u001b[m\u001b[1m—\u001b[m\u001b[1m—\u001b[m\u001b[1m—\u001b[m\u001b[1m—\u001b[m\u001b[1m—\u001b[m\u001b[1m—\u001b[m\u001b[1m—\u001b[m\u001b[1m—\u001b[m\u001b[1m—\u001b[m\u001b[1m—\u001b[m\u001b[1m—\u001b[m\u001b[1m—\u001b[m\u001b[1m—\u001b[m\u001b[1m—\u001b[m\u001b[1m—\u001b[m\u001b[1m—\u001b[m\u001b[1m—\u001b[m\u001b[1m—\u001b[m\u001b[1m—\u001b[m\u001b[1m—\u001b[m\u001b[1m—\u001b[m\u001b[1m—\u001b[m\u001b[1m—\u001b[m\u001b[1m—\u001b[m\u001b[1m—\u001b[m\u001b[1m—\u001b[m\u001b[1m—\u001b[m\u001b[1m—\u001b[m\u001b[1m—\u001b[m\u001b[1m—\u001b[m\u001b[1m—\u001b[m\u001b[1m—\u001b[m\u001b[1m—\u001b[m\u001b[1m—\u001b[m\u001b[1m—\u001b[m\u001b[1m—\u001b[m\u001b[1m—\u001b[m\u001b[1m—\u001b[m\u001b[1m—\u001b[m\u001b[1m—\u001b[m\u001b[1m—\u001b[m\u001b[1m—\u001b[m\u001b[1m—\u001b[m\u001b[1m—\u001b[m\u001b[1m—\u001b[m\u001b[1m—\u001b[m\u001b[1m—\u001b[m\u001b[1m—\u001b[m\u001b[1m—\u001b[m\u001b[1m—\u001b[m\u001b[1m—\u001b[m\u001b[1m—\u001b[m\u001b[1m—\u001b[m\u001b[1m—\u001b[m\u001b[1m—\u001b[m\u001b[1m—\u001b[m\u001b[1m—\u001b[m\u001b[1m—\u001b[m\u001b[1m—\u001b[m\u001b[1m—\u001b[m\u001b[1m—\u001b[m\u001b[1m—\u001b[m\u001b[1m—\u001b[m\u001b[1m—\u001b[m\u001b[1m—\u001b[m\u001b[1m—\u001b[m\u001b[1m—\u001b[m\u001b[1m—\u001b[m\u001b[1m—\u001b[m\u001b[1m—\u001b[m\u001b[1m—\u001b[m\u001b[1m—\u001b[m\u001b[1m—\u001b[m\u001b[1m—\u001b[m\u001b[1m—\u001b[m\u001b[1m—\u001b[m\u001b[1m—\u001b[m\u001b[1m—\u001b[m\u001b[1m—\u001b[m\u001b[1m—\u001b[m\u001b[1m—\u001b[m\u001b[1m—\u001b[m\u001b[1m—\u001b[m\u001b[1m—\u001b[m\u001b[1m—\u001b[m\u001b[1m—\u001b[m\u001b[1m—\u001b[m\u001b[1m—\u001b[m\u001b[1m—\u001b[m\u001b[1m—\u001b[m\u001b[1m—\u001b[m\u001b[1m—\u001b[m\u001b[1m—\u001b[m\u001b[1m—\u001b[m\u001b[1m—\u001b[m\n",
      "        \u001b[1mDemo.ipynb\u001b[0;10m ┃\u001b[0;10m   \u001b[0;10mnotebook\u001b[0;10m \u001b[0;10m19305\u001b[0;10m ┃\u001b[0;10m  \u001b[1m\u001b[36m\u001b[1m100%\u001b[0;10m   \u001b[1m\u001b[36m4.6 GB\u001b[0;10m ║\u001b[0;10m \u001b[34m2080 Ti [6]\u001b[0;10m ┃\u001b[0;10m \u001b[33m\u001b[1m\u001b[0;10m\u001b[33m\u001b[1m 3363\u001b[0;10m\u001b[1m / \u001b[0;10m\u001b[33m\u001b[1m 3366\u001b[0;10m\u001b[1m / \u001b[0;10m\u001b[33m\u001b[1m11019 \u001b[0;10m\u001b[1mMB\u001b[0;10m ┃\u001b[0;10m   \u001b[32m\u001b[1m73%\u001b[0;10m  \u001b[31m\u001b[1m76°C\u001b[0;10m ┃\u001b[0;10m \u001b[35m255/260 W\u001b[0;10m\u001b[0;10m\n",
      "\u001b[1m—\u001b[m\u001b[1m—\u001b[m\u001b[1m—\u001b[m\u001b[1m—\u001b[m\u001b[1m—\u001b[m\u001b[1m—\u001b[m\u001b[1m—\u001b[m\u001b[1m—\u001b[m\u001b[1m—\u001b[m\u001b[1m—\u001b[m\u001b[1m—\u001b[m\u001b[1m—\u001b[m\u001b[1m—\u001b[m\u001b[1m—\u001b[m\u001b[1m—\u001b[m\u001b[1m—\u001b[m\u001b[1m—\u001b[m\u001b[1m—\u001b[m\u001b[1m—\u001b[m\u001b[1m—\u001b[m\u001b[1m—\u001b[m\u001b[1m—\u001b[m\u001b[1m—\u001b[m\u001b[1m—\u001b[m\u001b[1m—\u001b[m\u001b[1m—\u001b[m\u001b[1m—\u001b[m\u001b[1m—\u001b[m\u001b[1m—\u001b[m\u001b[1m—\u001b[m\u001b[1m—\u001b[m\u001b[1m—\u001b[m\u001b[1m—\u001b[m\u001b[1m—\u001b[m\u001b[1m—\u001b[m\u001b[1m—\u001b[m\u001b[1m—\u001b[m\u001b[1m—\u001b[m\u001b[1m—\u001b[m\u001b[1m—\u001b[m\u001b[1m—\u001b[m\u001b[1m—\u001b[m\u001b[1m—\u001b[m\u001b[1m—\u001b[m\u001b[1m—\u001b[m\u001b[1m—\u001b[m\u001b[1m—\u001b[m\u001b[1m—\u001b[m\u001b[1m—\u001b[m\u001b[1m—\u001b[m\u001b[1m—\u001b[m\u001b[1m—\u001b[m\u001b[1m—\u001b[m\u001b[1m—\u001b[m\u001b[1m—\u001b[m\u001b[1m—\u001b[m\u001b[1m—\u001b[m\u001b[1m—\u001b[m\u001b[1m—\u001b[m\u001b[1m—\u001b[m\u001b[1m—\u001b[m\u001b[1m—\u001b[m\u001b[1m—\u001b[m\u001b[1m—\u001b[m\u001b[1m—\u001b[m\u001b[1m—\u001b[m\u001b[1m—\u001b[m\u001b[1m—\u001b[m\u001b[1m—\u001b[m\u001b[1m—\u001b[m\u001b[1m—\u001b[m\u001b[1m—\u001b[m\u001b[1m—\u001b[m\u001b[1m—\u001b[m\u001b[1m—\u001b[m\u001b[1m—\u001b[m\u001b[1m—\u001b[m\u001b[1m—\u001b[m\u001b[1m—\u001b[m\u001b[1m—\u001b[m\u001b[1m—\u001b[m\u001b[1m—\u001b[m\u001b[1m—\u001b[m\u001b[1m—\u001b[m\u001b[1m—\u001b[m\u001b[1m—\u001b[m\u001b[1m—\u001b[m\u001b[1m—\u001b[m\u001b[1m—\u001b[m\u001b[1m—\u001b[m\u001b[1m—\u001b[m\u001b[1m—\u001b[m\u001b[1m—\u001b[m\u001b[1m—\u001b[m\u001b[1m—\u001b[m\u001b[1m—\u001b[m\u001b[1m—\u001b[m\u001b[1m—\u001b[m\u001b[1m—\u001b[m\u001b[1m—\u001b[m\u001b[1m—\u001b[m\u001b[1m—\u001b[m\u001b[1m—\u001b[m\u001b[1m—\u001b[m\u001b[1m—\u001b[m\u001b[1m—\u001b[m\u001b[1m—\u001b[m\u001b[1m—\u001b[m\u001b[1m—\u001b[m\u001b[1m—\u001b[m\u001b[1m—\u001b[m\u001b[1m—\u001b[m\u001b[1m—\u001b[m\u001b[1m—\u001b[m\u001b[1m—\u001b[m\u001b[1m—\u001b[m\u001b[1m—\u001b[m\u001b[1m—\u001b[m\u001b[1m—\u001b[m\u001b[1m—\u001b[m\u001b[1m—\u001b[m\n",
      "   \u001b[1mBenchmark.ipynb\u001b[0;10m ┃\u001b[0;10m   \u001b[0;10mnotebook\u001b[0;10m \u001b[0;10m19743\u001b[0;10m ┃\u001b[0;10m  \u001b[1m\u001b[36m\u001b[1m116%\u001b[0;10m   \u001b[1m\u001b[36m4.0 GB\u001b[0;10m ║\u001b[0;10m \u001b[34m2080 Ti [1]\u001b[0;10m ┃\u001b[0;10m \u001b[33m\u001b[1m\u001b[0;10m\u001b[33m\u001b[1m10011\u001b[0;10m\u001b[1m / \u001b[0;10m\u001b[33m\u001b[1m10014\u001b[0;10m\u001b[1m / \u001b[0;10m\u001b[33m\u001b[1m11019 \u001b[0;10m\u001b[1mMB\u001b[0;10m ┃\u001b[0;10m   \u001b[32m\u001b[1m95%\u001b[0;10m  \u001b[31m\u001b[1m72°C\u001b[0;10m ┃\u001b[0;10m \u001b[35m256/260 W\u001b[0;10m\u001b[0;10m\n"
     ]
    }
   ],
   "source": [
    "nbstat_view = inspector.get_view(name='nbstat', formatter=formatter,\n",
    "                                 add_header=True, separate_header=True, underline_header=True)\n",
    "print(nbstat_view)"
   ]
  },
  {
   "cell_type": "code",
   "execution_count": 7,
   "id": "9c93722e-9c03-444a-95b1-582cad244cc7",
   "metadata": {
    "execution": {
     "iopub.execute_input": "2022-02-10T23:18:11.105223Z",
     "iopub.status.busy": "2022-02-10T23:18:11.105046Z",
     "iopub.status.idle": "2022-02-10T23:18:17.628108Z",
     "shell.execute_reply": "2022-02-10T23:18:17.626973Z",
     "shell.execute_reply.started": "2022-02-10T23:18:11.105201Z"
    }
   },
   "outputs": [
    {
     "name": "stdout",
     "output_type": "stream",
     "text": [
      "81 ms ± 5.7 ms per loop (mean ± std. dev. of 7 runs, 10 loops each)\n"
     ]
    }
   ],
   "source": [
    "%%timeit\n",
    "inspector.get_view(name='nbstat', formatter=formatter);"
   ]
  },
  {
   "cell_type": "markdown",
   "id": "7b2335b3-c8d8-46c5-8cc0-216f78c3dea5",
   "metadata": {},
   "source": [
    "# DEVICESTAT table"
   ]
  },
  {
   "cell_type": "code",
   "execution_count": 8,
   "id": "e142d113-4a33-46b9-b307-9f90564f23c0",
   "metadata": {
    "execution": {
     "iopub.execute_input": "2022-02-10T23:18:17.630329Z",
     "iopub.status.busy": "2022-02-10T23:18:17.629995Z",
     "iopub.status.idle": "2022-02-10T23:18:17.681735Z",
     "shell.execute_reply": "2022-02-10T23:18:17.681028Z",
     "shell.execute_reply.started": "2022-02-10T23:18:17.630285Z"
    },
    "tags": []
   },
   "outputs": [
    {
     "name": "stdout",
     "output_type": "stream",
     "text": [
      "                           \u001b[1m\u001b[4m2022-02-10 23:18:17\u001b[0;10m    \u001b[1m\u001b[4mDriver Version: 470.82\u001b[0;10m    \u001b[1m\u001b[4mCUDA Version: 11.4\u001b[0;10m\n",
      "   \u001b[34m\u001b[4mDEVICE NAME \u001b[36m[ID]\u001b[0;10m ┃\u001b[0;10m  \u001b[32m\u001b[4m\u001b[1mUTIL\u001b[0;10m  \u001b[31m\u001b[4m\u001b[1mTEMP\u001b[0;10m ┃\u001b[0;10m           \u001b[33m\u001b[4m\u001b[1mPROCESS MEMORY\u001b[0;10m ┃\u001b[0;10m       \u001b[1m\u001b[4mPROCESS NAME\u001b[0;10m ┃\u001b[0;10m \u001b[4mDEVICE PID\u001b[0;10m\u001b[0;10m\n",
      "\u001b[1m—\u001b[m\u001b[1m—\u001b[m\u001b[1m—\u001b[m\u001b[1m—\u001b[m\u001b[1m—\u001b[m\u001b[1m—\u001b[m\u001b[1m—\u001b[m\u001b[1m—\u001b[m\u001b[1m—\u001b[m\u001b[1m—\u001b[m\u001b[1m—\u001b[m\u001b[1m—\u001b[m\u001b[1m—\u001b[m\u001b[1m—\u001b[m\u001b[1m—\u001b[m\u001b[1m—\u001b[m\u001b[1m—\u001b[m\u001b[1m—\u001b[m\u001b[1m—\u001b[m\u001b[1m—\u001b[m\u001b[1m—\u001b[m\u001b[1m—\u001b[m\u001b[1m—\u001b[m\u001b[1m—\u001b[m\u001b[1m—\u001b[m\u001b[1m—\u001b[m\u001b[1m—\u001b[m\u001b[1m—\u001b[m\u001b[1m—\u001b[m\u001b[1m—\u001b[m\u001b[1m—\u001b[m\u001b[1m—\u001b[m\u001b[1m—\u001b[m\u001b[1m—\u001b[m\u001b[1m—\u001b[m\u001b[1m—\u001b[m\u001b[1m—\u001b[m\u001b[1m—\u001b[m\u001b[1m—\u001b[m\u001b[1m—\u001b[m\u001b[1m—\u001b[m\u001b[1m—\u001b[m\u001b[1m—\u001b[m\u001b[1m—\u001b[m\u001b[1m—\u001b[m\u001b[1m—\u001b[m\u001b[1m—\u001b[m\u001b[1m—\u001b[m\u001b[1m—\u001b[m\u001b[1m—\u001b[m\u001b[1m—\u001b[m\u001b[1m—\u001b[m\u001b[1m—\u001b[m\u001b[1m—\u001b[m\u001b[1m—\u001b[m\u001b[1m—\u001b[m\u001b[1m—\u001b[m\u001b[1m—\u001b[m\u001b[1m—\u001b[m\u001b[1m—\u001b[m\u001b[1m—\u001b[m\u001b[1m—\u001b[m\u001b[1m—\u001b[m\u001b[1m—\u001b[m\u001b[1m—\u001b[m\u001b[1m—\u001b[m\u001b[1m—\u001b[m\u001b[1m—\u001b[m\u001b[1m—\u001b[m\u001b[1m—\u001b[m\u001b[1m—\u001b[m\u001b[1m—\u001b[m\u001b[1m—\u001b[m\u001b[1m—\u001b[m\u001b[1m—\u001b[m\u001b[1m—\u001b[m\u001b[1m—\u001b[m\u001b[1m—\u001b[m\u001b[1m—\u001b[m\u001b[1m—\u001b[m\u001b[1m—\u001b[m\u001b[1m—\u001b[m\u001b[1m—\u001b[m\u001b[1m—\u001b[m\u001b[1m—\u001b[m\u001b[1m—\u001b[m\u001b[1m—\u001b[m\u001b[1m—\u001b[m\u001b[1m—\u001b[m\u001b[1m—\u001b[m\u001b[1m—\u001b[m\u001b[1m—\u001b[m\u001b[1m—\u001b[m\u001b[1m—\u001b[m\n",
      "\u001b[34mGeForce 2080 Ti \u001b[36m[0]\u001b[0;10m ┃\u001b[0;10m    \u001b[32m0%\u001b[0;10m  \u001b[31m26°C\u001b[0;10m ┃\u001b[0;10m \u001b[33m\u001b[1m\u001b[0;10m\u001b[33m\u001b[1m  737\u001b[0;10m\u001b[1m / \u001b[0;10m\u001b[33m\u001b[1m 2214\u001b[0;10m\u001b[1m / \u001b[0;10m\u001b[33m\u001b[1m11019 \u001b[0;10m\u001b[1mMB\u001b[0;10m ┃\u001b[0;10m      \u001b[1mgpu_script.py\u001b[0;10m ┃\u001b[0;10m      70646\u001b[0;10m\u001b[0;10m\n",
      "                   \u001b[34m\u001b[0;10m ┃\u001b[0;10m      \u001b[32m\u001b[0;10m      \u001b[31m\u001b[0;10m ┃\u001b[0;10m \u001b[33m\u001b[1m\u001b[0;10m\u001b[33m\u001b[1m  737\u001b[0;10m\u001b[1m / \u001b[0;10m\u001b[33m\u001b[1m 2214\u001b[0;10m\u001b[1m / \u001b[0;10m\u001b[33m\u001b[1m11019 \u001b[0;10m\u001b[1mMB\u001b[0;10m ┃\u001b[0;10m      \u001b[1mgpu_script.py\u001b[0;10m ┃\u001b[0;10m      70645\u001b[0;10m\u001b[0;10m\n",
      "                   \u001b[34m\u001b[0;10m ┃\u001b[0;10m      \u001b[32m\u001b[0;10m      \u001b[31m\u001b[0;10m ┃\u001b[0;10m \u001b[33m\u001b[1m\u001b[0;10m\u001b[33m\u001b[1m  737\u001b[0;10m\u001b[1m / \u001b[0;10m\u001b[33m\u001b[1m 2214\u001b[0;10m\u001b[1m / \u001b[0;10m\u001b[33m\u001b[1m11019 \u001b[0;10m\u001b[1mMB\u001b[0;10m ┃\u001b[0;10m      \u001b[1mExample.ipynb\u001b[0;10m ┃\u001b[0;10m      80852\u001b[0;10m\u001b[0;10m\n",
      "\u001b[34mGeForce 2080 Ti \u001b[36m[1]\u001b[0;10m ┃\u001b[0;10m   \u001b[32m\u001b[1m96%\u001b[0;10m  \u001b[31m\u001b[1m73°C\u001b[0;10m ┃\u001b[0;10m \u001b[33m\u001b[1m\u001b[0;10m\u001b[33m\u001b[1m10011\u001b[0;10m\u001b[1m / \u001b[0;10m\u001b[33m\u001b[1m10014\u001b[0;10m\u001b[1m / \u001b[0;10m\u001b[33m\u001b[1m11019 \u001b[0;10m\u001b[1mMB\u001b[0;10m ┃\u001b[0;10m    \u001b[1mBenchmark.ipynb\u001b[0;10m ┃\u001b[0;10m      19743\u001b[0;10m\u001b[0;10m\n",
      "\u001b[34mGeForce 2080 Ti \u001b[36m[2]\u001b[0;10m ┃\u001b[0;10m   \u001b[32m\u001b[1m67%\u001b[0;10m  \u001b[31m\u001b[1m54°C\u001b[0;10m ┃\u001b[0;10m \u001b[33m\u001b[1m\u001b[0;10m\u001b[33m\u001b[1m 2833\u001b[0;10m\u001b[1m / \u001b[0;10m\u001b[33m\u001b[1m 2836\u001b[0;10m\u001b[1m / \u001b[0;10m\u001b[33m\u001b[1m11019 \u001b[0;10m\u001b[1mMB\u001b[0;10m ┃\u001b[0;10m      \u001b[1mExample.ipynb\u001b[0;10m ┃\u001b[0;10m      80852\u001b[0;10m\u001b[0;10m\n",
      "\u001b[34mGeForce 2080 Ti \u001b[36m[3]\u001b[0;10m ┃\u001b[0;10m   \u001b[32m\u001b[1m67%\u001b[0;10m  \u001b[31m\u001b[1m55°C\u001b[0;10m ┃\u001b[0;10m \u001b[33m\u001b[1m\u001b[0;10m\u001b[33m\u001b[1m 2833\u001b[0;10m\u001b[1m / \u001b[0;10m\u001b[33m\u001b[1m 2836\u001b[0;10m\u001b[1m / \u001b[0;10m\u001b[33m\u001b[1m11019 \u001b[0;10m\u001b[1mMB\u001b[0;10m ┃\u001b[0;10m      \u001b[1mgpu_script.py\u001b[0;10m ┃\u001b[0;10m      70645\u001b[0;10m\u001b[0;10m\n",
      "\u001b[34mGeForce 2080 Ti \u001b[36m[4]\u001b[0;10m ┃\u001b[0;10m   \u001b[32m\u001b[1m64%\u001b[0;10m  \u001b[31m\u001b[1m54°C\u001b[0;10m ┃\u001b[0;10m \u001b[33m\u001b[1m\u001b[0;10m\u001b[33m\u001b[1m 2833\u001b[0;10m\u001b[1m / \u001b[0;10m\u001b[33m\u001b[1m 2836\u001b[0;10m\u001b[1m / \u001b[0;10m\u001b[33m\u001b[1m11019 \u001b[0;10m\u001b[1mMB\u001b[0;10m ┃\u001b[0;10m      \u001b[1mgpu_script.py\u001b[0;10m ┃\u001b[0;10m      70646\u001b[0;10m\u001b[0;10m\n",
      "\u001b[34mGeForce 2080 Ti \u001b[36m[5]\u001b[0;10m ┃\u001b[0;10m    \u001b[32m0%\u001b[0;10m  \u001b[31m31°C\u001b[0;10m ┃\u001b[0;10m \u001b[33m\u001b[1m\u001b[0;10m\u001b[33m\u001b[1m  737\u001b[0;10m\u001b[1m / \u001b[0;10m\u001b[33m\u001b[1m  740\u001b[0;10m\u001b[1m / \u001b[0;10m\u001b[33m\u001b[1m11019 \u001b[0;10m\u001b[1mMB\u001b[0;10m ┃\u001b[0;10m      \u001b[1mExample.ipynb\u001b[0;10m ┃\u001b[0;10m      80853\u001b[0;10m\u001b[0;10m\n",
      "\u001b[34mGeForce 2080 Ti \u001b[36m[6]\u001b[0;10m ┃\u001b[0;10m   \u001b[32m\u001b[1m72%\u001b[0;10m  \u001b[31m\u001b[1m75°C\u001b[0;10m ┃\u001b[0;10m \u001b[33m\u001b[1m\u001b[0;10m\u001b[33m\u001b[1m 3363\u001b[0;10m\u001b[1m / \u001b[0;10m\u001b[33m\u001b[1m 3366\u001b[0;10m\u001b[1m / \u001b[0;10m\u001b[33m\u001b[1m11019 \u001b[0;10m\u001b[1mMB\u001b[0;10m ┃\u001b[0;10m         \u001b[1mDemo.ipynb\u001b[0;10m ┃\u001b[0;10m      19305\u001b[0;10m\u001b[0;10m\n",
      "\u001b[34mGeForce 2080 Ti \u001b[36m[7]\u001b[0;10m ┃\u001b[0;10m   \u001b[32m\u001b[1m98%\u001b[0;10m  \u001b[31m\u001b[1m74°C\u001b[0;10m ┃\u001b[0;10m \u001b[33m\u001b[1m\u001b[0;10m\u001b[33m\u001b[1m 6451\u001b[0;10m\u001b[1m / \u001b[0;10m\u001b[33m\u001b[1m 6454\u001b[0;10m\u001b[1m / \u001b[0;10m\u001b[33m\u001b[1m11019 \u001b[0;10m\u001b[1mMB\u001b[0;10m ┃\u001b[0;10m \u001b[1mDemoConvNeXt.ipynb\u001b[0;10m ┃\u001b[0;10m      18851\u001b[0;10m\u001b[0;10m\n",
      " \n",
      "                                           \u001b[1m\u001b[36mSYSTEM CPU:   10.7%\u001b[0;10m    \u001b[1m\u001b[36mSYSTEM RSS:  27.7 / 503.6 GB\u001b[0;10m\n"
     ]
    }
   ],
   "source": [
    "devicestat_view = inspector.get_view(name='devicestat', formatter=DEVICESTAT_FORMATTER,\n",
    "                                     separate_index=False, add_footnote=True)\n",
    "print(devicestat_view)"
   ]
  },
  {
   "cell_type": "code",
   "execution_count": 9,
   "id": "65360be3-89be-4e46-a71a-b82e43bbc033",
   "metadata": {
    "execution": {
     "iopub.execute_input": "2022-02-10T23:18:17.682927Z",
     "iopub.status.busy": "2022-02-10T23:18:17.682746Z",
     "iopub.status.idle": "2022-02-10T23:18:21.945299Z",
     "shell.execute_reply": "2022-02-10T23:18:21.944356Z",
     "shell.execute_reply.started": "2022-02-10T23:18:17.682906Z"
    },
    "tags": []
   },
   "outputs": [
    {
     "name": "stdout",
     "output_type": "stream",
     "text": [
      "53.1 ms ± 5.74 ms per loop (mean ± std. dev. of 7 runs, 10 loops each)\n"
     ]
    }
   ],
   "source": [
    "%%timeit\n",
    "inspector.get_view(name='devicestat', formatter=DEVICESTAT_FORMATTER);"
   ]
  },
  {
   "cell_type": "markdown",
   "id": "b79072ef-7c6e-48fa-9b41-816e734479e8",
   "metadata": {},
   "source": [
    "# GPUSTAT-like table"
   ]
  },
  {
   "cell_type": "code",
   "execution_count": 10,
   "id": "8f7bac48-dc29-4eef-9143-a95a27d7b8f5",
   "metadata": {
    "execution": {
     "iopub.execute_input": "2022-02-10T23:18:21.947374Z",
     "iopub.status.busy": "2022-02-10T23:18:21.946953Z",
     "iopub.status.idle": "2022-02-10T23:18:21.972018Z",
     "shell.execute_reply": "2022-02-10T23:18:21.971438Z",
     "shell.execute_reply.started": "2022-02-10T23:18:21.947324Z"
    },
    "tags": []
   },
   "outputs": [
    {
     "name": "stdout",
     "output_type": "stream",
     "text": [
      "\u001b[1m\u001b[4m2022-02-10 23:18:21\u001b[0;10m    \u001b[1m\u001b[4mDriver Version: 470.82\u001b[0;10m    \u001b[1m\u001b[4mCUDA Version: 11.4\u001b[0;10m\n",
      "                  \u001b[34m\u001b[4mDEVICE NAME \u001b[36m[ID]\u001b[0;10m ┃\u001b[0;10m  \u001b[32m\u001b[4m\u001b[1mUTIL\u001b[0;10m  \u001b[31m\u001b[4m\u001b[1mTEMP\u001b[0;10m ┃\u001b[0;10m           \u001b[33m\u001b[4m\u001b[1mMEMORY\u001b[0;10m\u001b[0;10m\n",
      "               \u001b[34mGeForce 2080 Ti \u001b[36m[0]\u001b[0;10m ┃\u001b[0;10m    \u001b[32m0%\u001b[0;10m  \u001b[31m26°C\u001b[0;10m ┃\u001b[0;10m \u001b[33m\u001b[1m\u001b[0;10m\u001b[33m\u001b[1m 2214\u001b[0;10m\u001b[1m / \u001b[0;10m\u001b[33m\u001b[1m11019 \u001b[0;10m\u001b[1mMB\u001b[0;10m\u001b[0;10m\n",
      "               \u001b[34mGeForce 2080 Ti \u001b[36m[1]\u001b[0;10m ┃\u001b[0;10m   \u001b[32m\u001b[1m95%\u001b[0;10m  \u001b[31m\u001b[1m73°C\u001b[0;10m ┃\u001b[0;10m \u001b[33m\u001b[1m\u001b[0;10m\u001b[33m\u001b[1m10014\u001b[0;10m\u001b[1m / \u001b[0;10m\u001b[33m\u001b[1m11019 \u001b[0;10m\u001b[1mMB\u001b[0;10m\u001b[0;10m\n",
      "               \u001b[34mGeForce 2080 Ti \u001b[36m[2]\u001b[0;10m ┃\u001b[0;10m   \u001b[32m\u001b[1m68%\u001b[0;10m  \u001b[31m\u001b[1m54°C\u001b[0;10m ┃\u001b[0;10m \u001b[33m\u001b[1m\u001b[0;10m\u001b[33m\u001b[1m 2836\u001b[0;10m\u001b[1m / \u001b[0;10m\u001b[33m\u001b[1m11019 \u001b[0;10m\u001b[1mMB\u001b[0;10m\u001b[0;10m\n",
      "               \u001b[34mGeForce 2080 Ti \u001b[36m[3]\u001b[0;10m ┃\u001b[0;10m   \u001b[32m\u001b[1m67%\u001b[0;10m  \u001b[31m\u001b[1m54°C\u001b[0;10m ┃\u001b[0;10m \u001b[33m\u001b[1m\u001b[0;10m\u001b[33m\u001b[1m 2836\u001b[0;10m\u001b[1m / \u001b[0;10m\u001b[33m\u001b[1m11019 \u001b[0;10m\u001b[1mMB\u001b[0;10m\u001b[0;10m\n",
      "               \u001b[34mGeForce 2080 Ti \u001b[36m[4]\u001b[0;10m ┃\u001b[0;10m   \u001b[32m\u001b[1m65%\u001b[0;10m  \u001b[31m\u001b[1m54°C\u001b[0;10m ┃\u001b[0;10m \u001b[33m\u001b[1m\u001b[0;10m\u001b[33m\u001b[1m 2836\u001b[0;10m\u001b[1m / \u001b[0;10m\u001b[33m\u001b[1m11019 \u001b[0;10m\u001b[1mMB\u001b[0;10m\u001b[0;10m\n",
      "               \u001b[34mGeForce 2080 Ti \u001b[36m[5]\u001b[0;10m ┃\u001b[0;10m    \u001b[32m0%\u001b[0;10m  \u001b[31m31°C\u001b[0;10m ┃\u001b[0;10m \u001b[33m\u001b[1m\u001b[0;10m\u001b[33m\u001b[1m  740\u001b[0;10m\u001b[1m / \u001b[0;10m\u001b[33m\u001b[1m11019 \u001b[0;10m\u001b[1mMB\u001b[0;10m\u001b[0;10m\n",
      "               \u001b[34mGeForce 2080 Ti \u001b[36m[6]\u001b[0;10m ┃\u001b[0;10m   \u001b[32m\u001b[1m55%\u001b[0;10m  \u001b[31m\u001b[1m76°C\u001b[0;10m ┃\u001b[0;10m \u001b[33m\u001b[1m\u001b[0;10m\u001b[33m\u001b[1m 3366\u001b[0;10m\u001b[1m / \u001b[0;10m\u001b[33m\u001b[1m11019 \u001b[0;10m\u001b[1mMB\u001b[0;10m\u001b[0;10m\n",
      "               \u001b[34mGeForce 2080 Ti \u001b[36m[7]\u001b[0;10m ┃\u001b[0;10m   \u001b[32m\u001b[1m99%\u001b[0;10m  \u001b[31m\u001b[1m74°C\u001b[0;10m ┃\u001b[0;10m \u001b[33m\u001b[1m\u001b[0;10m\u001b[33m\u001b[1m 6454\u001b[0;10m\u001b[1m / \u001b[0;10m\u001b[33m\u001b[1m11019 \u001b[0;10m\u001b[1mMB\u001b[0;10m\u001b[0;10m\n"
     ]
    }
   ],
   "source": [
    "gpustat_view = inspector.get_view(name='gpustat', formatter=GPUSTAT_FORMATTER,\n",
    "                                  separate_index=False, separate_header=False)\n",
    "print(gpustat_view)"
   ]
  },
  {
   "cell_type": "code",
   "execution_count": 11,
   "id": "eff48b22-41c2-4969-8cc1-18797f185fc1",
   "metadata": {
    "execution": {
     "iopub.execute_input": "2022-02-10T23:18:21.973133Z",
     "iopub.status.busy": "2022-02-10T23:18:21.972871Z",
     "iopub.status.idle": "2022-02-10T23:18:24.273073Z",
     "shell.execute_reply": "2022-02-10T23:18:24.272442Z",
     "shell.execute_reply.started": "2022-02-10T23:18:21.973112Z"
    },
    "tags": []
   },
   "outputs": [
    {
     "name": "stdout",
     "output_type": "stream",
     "text": [
      "28.8 ms ± 5.27 ms per loop (mean ± std. dev. of 7 runs, 10 loops each)\n"
     ]
    }
   ],
   "source": [
    "%%timeit\n",
    "inspector.get_view(name='gpustat', formatter=GPUSTAT_FORMATTER);"
   ]
  },
  {
   "cell_type": "markdown",
   "id": "77fa14d9-acc7-4332-b63d-30cce7c807b9",
   "metadata": {},
   "source": [
    "# GPUstat"
   ]
  },
  {
   "cell_type": "code",
   "execution_count": 12,
   "id": "398ccc71-cc3e-47b5-8fa0-5f8b1a7498cf",
   "metadata": {
    "execution": {
     "iopub.execute_input": "2022-02-10T23:18:24.275287Z",
     "iopub.status.busy": "2022-02-10T23:18:24.275032Z",
     "iopub.status.idle": "2022-02-10T23:18:24.348323Z",
     "shell.execute_reply": "2022-02-10T23:18:24.347698Z",
     "shell.execute_reply.started": "2022-02-10T23:18:24.275266Z"
    },
    "tags": []
   },
   "outputs": [
    {
     "name": "stdout",
     "output_type": "stream",
     "text": [
      "\u001b[1m\u001b[37me1d43ec134c9                 \u001b[0;10m  Thu Feb 10 23:18:24 2022  \u001b[1m\u001b[30m470.82.00\u001b[0;10m\n",
      "\u001b[36m[0]\u001b[0;10m \u001b[34mNVIDIA GeForce RTX 2080 Ti\u001b[0;10m |\u001b[31m 26'C\u001b[0;10m, \u001b[32m  0 %\u001b[0;10m | \u001b[36m\u001b[1m\u001b[33m 2214\u001b[0;10m / \u001b[33m11019\u001b[0;10m MB | \u001b[1m\u001b[30mroot\u001b[0;10m(\u001b[33m737M\u001b[0;10m) \u001b[1m\u001b[30mroot\u001b[0;10m(\u001b[33m737M\u001b[0;10m) \u001b[1m\u001b[30mroot\u001b[0;10m(\u001b[33m737M\u001b[0;10m)\n",
      "\u001b[36m[1]\u001b[0;10m \u001b[34mNVIDIA GeForce RTX 2080 Ti\u001b[0;10m |\u001b[1m\u001b[31m 73'C\u001b[0;10m, \u001b[1m\u001b[32m 93 %\u001b[0;10m | \u001b[36m\u001b[1m\u001b[33m10014\u001b[0;10m / \u001b[33m11019\u001b[0;10m MB | \u001b[1m\u001b[30mroot\u001b[0;10m(\u001b[33m10011M\u001b[0;10m)\n",
      "\u001b[36m[2]\u001b[0;10m \u001b[34mNVIDIA GeForce RTX 2080 Ti\u001b[0;10m |\u001b[1m\u001b[31m 55'C\u001b[0;10m, \u001b[1m\u001b[32m 65 %\u001b[0;10m | \u001b[36m\u001b[1m\u001b[33m 6244\u001b[0;10m / \u001b[33m11019\u001b[0;10m MB | \u001b[1m\u001b[30mroot\u001b[0;10m(\u001b[33m4931M\u001b[0;10m)\n",
      "\u001b[36m[3]\u001b[0;10m \u001b[34mNVIDIA GeForce RTX 2080 Ti\u001b[0;10m |\u001b[1m\u001b[31m 55'C\u001b[0;10m, \u001b[1m\u001b[32m 64 %\u001b[0;10m | \u001b[36m\u001b[1m\u001b[33m 2838\u001b[0;10m / \u001b[33m11019\u001b[0;10m MB | \u001b[1m\u001b[30mroot\u001b[0;10m(\u001b[33m2833M\u001b[0;10m)\n",
      "\u001b[36m[4]\u001b[0;10m \u001b[34mNVIDIA GeForce RTX 2080 Ti\u001b[0;10m |\u001b[1m\u001b[31m 54'C\u001b[0;10m, \u001b[1m\u001b[32m 66 %\u001b[0;10m | \u001b[36m\u001b[1m\u001b[33m 2836\u001b[0;10m / \u001b[33m11019\u001b[0;10m MB | \u001b[1m\u001b[30mroot\u001b[0;10m(\u001b[33m2833M\u001b[0;10m)\n",
      "\u001b[36m[5]\u001b[0;10m \u001b[34mNVIDIA GeForce RTX 2080 Ti\u001b[0;10m |\u001b[31m 31'C\u001b[0;10m, \u001b[32m  0 %\u001b[0;10m | \u001b[36m\u001b[1m\u001b[33m  740\u001b[0;10m / \u001b[33m11019\u001b[0;10m MB | \u001b[1m\u001b[30mroot\u001b[0;10m(\u001b[33m737M\u001b[0;10m)\n",
      "\u001b[36m[6]\u001b[0;10m \u001b[34mNVIDIA GeForce RTX 2080 Ti\u001b[0;10m |\u001b[1m\u001b[31m 76'C\u001b[0;10m, \u001b[1m\u001b[32m 62 %\u001b[0;10m | \u001b[36m\u001b[1m\u001b[33m 3366\u001b[0;10m / \u001b[33m11019\u001b[0;10m MB | \u001b[1m\u001b[30mroot\u001b[0;10m(\u001b[33m3363M\u001b[0;10m)\n",
      "\u001b[36m[7]\u001b[0;10m \u001b[34mNVIDIA GeForce RTX 2080 Ti\u001b[0;10m |\u001b[1m\u001b[31m 74'C\u001b[0;10m, \u001b[1m\u001b[32m 91 %\u001b[0;10m | \u001b[36m\u001b[1m\u001b[33m 6454\u001b[0;10m / \u001b[33m11019\u001b[0;10m MB | \u001b[1m\u001b[30mroot\u001b[0;10m(\u001b[33m6451M\u001b[0;10m)\n"
     ]
    }
   ],
   "source": [
    "from gpustat import GPUStatCollection\n",
    "\n",
    "gpu_stats = GPUStatCollection.new_query()\n",
    "gpu_stats.print_formatted(sys.stdout, force_color=True)"
   ]
  },
  {
   "cell_type": "code",
   "execution_count": 13,
   "id": "542cdbb3-04d8-4045-9067-8644ffe929d8",
   "metadata": {
    "execution": {
     "iopub.execute_input": "2022-02-10T23:18:24.350179Z",
     "iopub.status.busy": "2022-02-10T23:18:24.349745Z",
     "iopub.status.idle": "2022-02-10T23:18:24.355724Z",
     "shell.execute_reply": "2022-02-10T23:18:24.355062Z",
     "shell.execute_reply.started": "2022-02-10T23:18:24.350132Z"
    },
    "tags": []
   },
   "outputs": [],
   "source": [
    "class MockStdout:\n",
    "    \"\"\" Fake stdout. \"\"\"\n",
    "    def __getattr__(self, key):\n",
    "        return lambda *args, **kwargs: None\n",
    "mock_stdout = MockStdout()"
   ]
  },
  {
   "cell_type": "code",
   "execution_count": 14,
   "id": "aa57b62b-351c-449d-9037-ee7ac5b2abd0",
   "metadata": {
    "execution": {
     "iopub.execute_input": "2022-02-10T23:18:24.356992Z",
     "iopub.status.busy": "2022-02-10T23:18:24.356707Z",
     "iopub.status.idle": "2022-02-10T23:18:29.572733Z",
     "shell.execute_reply": "2022-02-10T23:18:29.571878Z",
     "shell.execute_reply.started": "2022-02-10T23:18:24.356965Z"
    },
    "tags": []
   },
   "outputs": [
    {
     "name": "stdout",
     "output_type": "stream",
     "text": [
      "63.8 ms ± 8.63 ms per loop (mean ± std. dev. of 7 runs, 10 loops each)\n"
     ]
    }
   ],
   "source": [
    "%%timeit\n",
    "gpu_stats = GPUStatCollection.new_query()\n",
    "gpu_stats.print_formatted(mock_stdout, force_color=True)"
   ]
  },
  {
   "cell_type": "markdown",
   "id": "c2b306d3-29e7-4488-baea-15698b7ab512",
   "metadata": {},
   "source": [
    "# Profile `nbstat` run"
   ]
  },
  {
   "cell_type": "code",
   "execution_count": 15,
   "id": "91bdc9b8-35da-4816-b56e-7bdcebbe73b3",
   "metadata": {
    "execution": {
     "iopub.execute_input": "2022-02-10T23:18:29.574414Z",
     "iopub.status.busy": "2022-02-10T23:18:29.574060Z",
     "iopub.status.idle": "2022-02-10T23:19:57.331439Z",
     "shell.execute_reply": "2022-02-10T23:19:57.330571Z",
     "shell.execute_reply.started": "2022-02-10T23:18:29.574384Z"
    },
    "tags": []
   },
   "outputs": [
    {
     "name": "stdout",
     "output_type": "stream",
     "text": [
      " "
     ]
    },
    {
     "data": {
      "text/plain": [
       "         78126662 function calls (77718637 primitive calls) in 87.680 seconds\n",
       "\n",
       "   Ordered by: cumulative time\n",
       "   List reduced from 706 to 35 due to restriction <'get_'>\n",
       "   List reduced from 35 to 3 due to restriction <'_table'>\n",
       "\n",
       "   ncalls  tottime  percall  cumtime  percall filename:lineno(function)\n",
       "     1000    0.348    0.000   31.125    0.031 resource_inspector.py:61(get_device_table)\n",
       "     1000    1.786    0.002   27.012    0.027 resource_inspector.py:190(get_process_table)\n",
       "     1000    0.093    0.000   10.947    0.011 resource_inspector.py:140(get_notebook_table)"
      ]
     },
     "metadata": {},
     "output_type": "display_data"
    }
   ],
   "source": [
    "%%prun -l get_ -l _table -s cumtime\n",
    "for _ in range(1000):\n",
    "    nbstat_view = inspector.get_view(name='nbstat', formatter=NBSTAT_FORMATTER)"
   ]
  },
  {
   "cell_type": "markdown",
   "id": "7e6316e5-f4f4-4e6b-9633-05491d40e7b6",
   "metadata": {},
   "source": [
    "# **pylint_notebook**"
   ]
  },
  {
   "cell_type": "code",
   "execution_count": 16,
   "id": "961ca2a4-4c16-49d5-9bde-e80ff920d259",
   "metadata": {
    "execution": {
     "iopub.execute_input": "2022-02-10T23:19:57.332789Z",
     "iopub.status.busy": "2022-02-10T23:19:57.332590Z",
     "iopub.status.idle": "2022-02-10T23:19:58.901385Z",
     "shell.execute_reply": "2022-02-10T23:19:58.900312Z",
     "shell.execute_reply.started": "2022-02-10T23:19:57.332763Z"
    },
    "tags": []
   },
   "outputs": [
    {
     "name": "stdout",
     "output_type": "stream",
     "text": [
      "Your code has been rated at 9.72/10 (previous run: 9.73/10, -0.01)\n",
      "––––––––––––––––––––––––––––––––––––––––––––––––––––––––––––––––––\n",
      "Cell 1:5, code=W0611, name=unused-import\n",
      "     Pylint message :::  Unused Resource imported from nbtools.nbstat\n"
     ]
    }
   ],
   "source": [
    "pylint_notebook()"
   ]
  },
  {
   "cell_type": "code",
   "execution_count": 17,
   "id": "b8430dc3-74d3-43f3-b2b4-ab3f96f0e9cd",
   "metadata": {
    "execution": {
     "iopub.execute_input": "2022-02-10T23:19:58.903314Z",
     "iopub.status.busy": "2022-02-10T23:19:58.903015Z",
     "iopub.status.idle": "2022-02-10T23:20:00.407768Z",
     "shell.execute_reply": "2022-02-10T23:20:00.406890Z",
     "shell.execute_reply.started": "2022-02-10T23:19:58.903275Z"
    },
    "tags": []
   },
   "outputs": [
    {
     "name": "stdout",
     "output_type": "stream",
     "text": [
      "Your code has been rated at 9.44/10 (previous run: 9.72/10, -0.28)\n",
      "––––––––––––––––––––––––––––––––––––––––––––––––––––––––––––––––––\n",
      "Cell 17:1, code=C0303, name=trailing-whitespace\n",
      "     Pylint message :::  Trailing whitespace\n",
      "\n",
      "Cell 1:5, code=W0611, name=unused-import\n",
      "     Pylint message :::  Unused Resource imported from nbtools.nbstat\n"
     ]
    }
   ],
   "source": [
    "pylint_info = pylint_notebook(enable='trailing-whitespace', return_info=True) "
   ]
  },
  {
   "cell_type": "code",
   "execution_count": 18,
   "id": "a8c7b91d-2d8e-4b61-b36a-04b586710ffe",
   "metadata": {
    "execution": {
     "iopub.execute_input": "2022-02-10T23:20:00.409762Z",
     "iopub.status.busy": "2022-02-10T23:20:00.409363Z",
     "iopub.status.idle": "2022-02-10T23:20:00.414811Z",
     "shell.execute_reply": "2022-02-10T23:20:00.414081Z",
     "shell.execute_reply.started": "2022-02-10T23:20:00.409724Z"
    },
    "tags": []
   },
   "outputs": [
    {
     "name": "stdout",
     "output_type": "stream",
     "text": [
      "dict_keys(['report', 'code', 'enumerated_code', 'pylintrc', 'pylint_errors', 'pylint_report'])\n"
     ]
    }
   ],
   "source": [
    "print(pylint_info.keys())"
   ]
  },
  {
   "cell_type": "code",
   "execution_count": 19,
   "id": "49057b25-2996-4f30-ae78-96ec61bba327",
   "metadata": {
    "execution": {
     "iopub.execute_input": "2022-02-10T23:20:00.416358Z",
     "iopub.status.busy": "2022-02-10T23:20:00.415998Z",
     "iopub.status.idle": "2022-02-10T23:20:00.424354Z",
     "shell.execute_reply": "2022-02-10T23:20:00.423862Z",
     "shell.execute_reply.started": "2022-02-10T23:20:00.416322Z"
    },
    "tags": []
   },
   "outputs": [
    {
     "name": "stdout",
     "output_type": "stream",
     "text": [
      "\n",
      "[DESIGN]\n",
      "max-line-length=120\n",
      "variable-rgx=(.*[a-z][a-z0-9_]{1,30}|[a-z_])$ # snake_case + single letters\n",
      "argument-rgx=(.*[a-z][a-z0-9_]{1,30}|[a-z_])$ # snake_case + single letters\n",
      "\n",
      "[MESSAGE CONTROL]\n",
      "disable=too-few-public-methods, unsubscriptable-object, no-member, too-many-lines, too-many-locals,\n",
      "        arguments-renamed, arguments-differ, multiple-statements, invalid-name,\n",
      "        missing-module-docstring, missing-final-newline, redefined-outer-name,\n",
      "        wrong-import-position, no-name-in-module, import-error, unused-wildcard-import,\n",
      "        unnecessary-semicolon, trailing-newlines,\n",
      "        \n",
      "\n",
      "good-names=bar, df, fn\n",
      "additional-builtins=display, get_ipython\n",
      "\n"
     ]
    }
   ],
   "source": [
    "print(pylint_info['pylintrc'])"
   ]
  },
  {
   "cell_type": "code",
   "execution_count": 20,
   "id": "a8959acc-6f7b-4b77-8d21-fb780e8b3f2e",
   "metadata": {
    "execution": {
     "iopub.execute_input": "2022-02-10T23:20:00.425460Z",
     "iopub.status.busy": "2022-02-10T23:20:00.425193Z",
     "iopub.status.idle": "2022-02-10T23:20:01.925103Z",
     "shell.execute_reply": "2022-02-10T23:20:01.924003Z",
     "shell.execute_reply.started": "2022-02-10T23:20:00.425436Z"
    },
    "tags": []
   },
   "outputs": [
    {
     "name": "stdout",
     "output_type": "stream",
     "text": [
      "Your code has been rated at 10.00/10 (previous run: 9.44/10, +0.56)\n",
      "–––––––––––––––––––––––––––––––––––––––––––––––––––––––––––––––––––\n"
     ]
    }
   ],
   "source": [
    "pylint_notebook(disable=['unused-import'])"
   ]
  }
 ],
 "metadata": {
  "kernelspec": {
   "display_name": "Python 3 (ipykernel)",
   "language": "python",
   "name": "python3"
  },
  "language_info": {
   "codemirror_mode": {
    "name": "ipython",
    "version": 3
   },
   "file_extension": ".py",
   "mimetype": "text/x-python",
   "name": "python",
   "nbconvert_exporter": "python",
   "pygments_lexer": "ipython3",
   "version": "3.8.16"
  },
  "widgets": {
   "application/vnd.jupyter.widget-state+json": {
    "state": {},
    "version_major": 2,
    "version_minor": 0
   }
  }
 },
 "nbformat": 4,
 "nbformat_minor": 5
}
