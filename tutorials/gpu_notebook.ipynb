{
 "cells": [
  {
   "cell_type": "code",
   "execution_count": null,
   "id": "763e6210-a7ca-49ef-ac23-2d2f23940387",
   "metadata": {
    "tags": []
   },
   "outputs": [],
   "source": [
    "from concurrent.futures import ProcessPoolExecutor\n",
    "\n",
    "import numpy as np\n",
    "import torch\n",
    "\n",
    "def tester(device):\n",
    "    device = torch.device(device)\n",
    "\n",
    "    while True:\n",
    "        gpu_data = torch.ones((256, 512, 2096), device=device)\n",
    "        gpu_op = torch.mvlgamma(torch.erfinv(gpu_data), 1)         # intense operation\n",
    "        torch.cuda.empty_cache()\n",
    "\n",
    "with ProcessPoolExecutor(max_workers=2) as executor:\n",
    "    executor.map(tester, ['cuda:2', 'cuda:5'])"
   ]
  }
 ],
 "metadata": {
  "kernelspec": {
   "display_name": "Python 3 (ipykernel)",
   "language": "python",
   "name": "python3"
  },
  "language_info": {
   "codemirror_mode": {
    "name": "ipython",
    "version": 3
   },
   "file_extension": ".py",
   "mimetype": "text/x-python",
   "name": "python",
   "nbconvert_exporter": "python",
   "pygments_lexer": "ipython3",
   "version": "3.8.10"
  },
  "widgets": {
   "application/vnd.jupyter.widget-state+json": {
    "state": {},
    "version_major": 2,
    "version_minor": 0
   }
  }
 },
 "nbformat": 4,
 "nbformat_minor": 5
}
